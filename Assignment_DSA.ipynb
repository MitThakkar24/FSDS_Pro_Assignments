{
 "cells": [
  {
   "cell_type": "markdown",
   "id": "dcbbce7d",
   "metadata": {},
   "source": [
    "#### Problem 1: Reverse a singly linked list.\n",
    "\n",
    "- Input: 1 -> 2 -> 3 -> 4 -> 5\n",
    "- Output: 5 -> 4 -> 3 -> 2 -> 1"
   ]
  },
  {
   "cell_type": "code",
   "execution_count": 1,
   "id": "3cddac20",
   "metadata": {
    "ExecuteTime": {
     "end_time": "2024-07-06T15:05:33.362621Z",
     "start_time": "2024-07-06T15:05:33.340560Z"
    }
   },
   "outputs": [],
   "source": [
    "class ListNode:\n",
    "    def __init__(self, value=0, next=None):\n",
    "        self.value = value\n",
    "        self.next = next\n",
    "\n",
    "def reverse_linked_list(head):\n",
    "    prev = None\n",
    "    current = head\n",
    "\n",
    "    while current is not None:\n",
    "        next_node = current.next\n",
    "        current.next = prev\n",
    "        prev = current\n",
    "        current = next_node\n",
    "\n",
    "    return prev"
   ]
  },
  {
   "cell_type": "code",
   "execution_count": 2,
   "id": "08da81a5",
   "metadata": {
    "ExecuteTime": {
     "end_time": "2024-07-06T15:05:33.378647Z",
     "start_time": "2024-07-06T15:05:33.364628Z"
    }
   },
   "outputs": [
    {
     "name": "stdout",
     "output_type": "stream",
     "text": [
      "Original linked list:\n",
      "1 -> 2 -> 3 -> 4 -> 5 -> \n",
      "Reversed linked list:\n",
      "5 -> 4 -> 3 -> 2 -> 1 -> "
     ]
    }
   ],
   "source": [
    "# Example usage:\n",
    "# Create a linked list: 1 -> 2 -> 3 -> 4 -> 5\n",
    "head = ListNode(1, ListNode(2, ListNode(3, ListNode(4, ListNode(5)))))\n",
    "print(\"Original linked list:\")\n",
    "current = head\n",
    "while current is not None:\n",
    "    print(current.value, end=\" -> \")\n",
    "    current = current.next\n",
    "\n",
    "# Reverse the linked list\n",
    "head = reverse_linked_list(head)\n",
    "\n",
    "print(\"\\nReversed linked list:\")\n",
    "current = head\n",
    "while current is not None:\n",
    "    print(current.value, end=\" -> \")\n",
    "    current = current.next"
   ]
  },
  {
   "cell_type": "markdown",
   "id": "69c69df7",
   "metadata": {},
   "source": [
    "#### 2. Merge two sorted linked lists into one sorted linked list.\n",
    "- Input: List 1: 1 -> 3 -> 5, List 2: 2 -> 4 -> 6\n",
    "- Output: 1 -> 2 -> 3 -> 4 -> 5 -> 6"
   ]
  },
  {
   "cell_type": "code",
   "execution_count": 3,
   "id": "e5e192e0",
   "metadata": {
    "ExecuteTime": {
     "end_time": "2024-07-06T15:05:33.394205Z",
     "start_time": "2024-07-06T15:05:33.380647Z"
    }
   },
   "outputs": [],
   "source": [
    "class ListNode:\n",
    "    def __init__(self, value=0, next=None):\n",
    "        self.value = value\n",
    "        self.next = next\n",
    "\n",
    "def merge_sorted_lists(list1,list2):\n",
    "    dummy = ListNode()\n",
    "    current = dummy\n",
    "    \n",
    "    while list1 is not None and list2 is not None:\n",
    "        if list1.value < list2.value:\n",
    "            current.next = list1\n",
    "            list1 = list1.next\n",
    "        else :\n",
    "            current.next = list2\n",
    "            list2 = list2.next\n",
    "        \n",
    "        current = current.next\n",
    "        \n",
    "    if list1 is not None:\n",
    "        current.next = list1\n",
    "    elif list2 is not None:\n",
    "        current.next = list2\n",
    "        \n",
    "    return dummy.next"
   ]
  },
  {
   "cell_type": "code",
   "execution_count": 4,
   "id": "e7077ad3",
   "metadata": {
    "ExecuteTime": {
     "end_time": "2024-07-06T15:05:33.409778Z",
     "start_time": "2024-07-06T15:05:33.395730Z"
    }
   },
   "outputs": [
    {
     "name": "stdout",
     "output_type": "stream",
     "text": [
      "List 1:\n",
      "1 -> 3 -> 5 -> \n",
      "List 2:\n",
      "2 -> 4 -> 6 -> \n",
      "Merged Sorted List:\n",
      "1 -> 2 -> 3 -> 4 -> 5 -> 6 -> "
     ]
    }
   ],
   "source": [
    "# Example usage:\n",
    "# Create two sorted linked lists: 1 -> 3 -> 5 and 2 -> 4 -> 6\n",
    "list1 = ListNode(1, ListNode(3, ListNode(5)))\n",
    "list2 = ListNode(2, ListNode(4, ListNode(6)))\n",
    "\n",
    "print(\"List 1:\")\n",
    "current = list1\n",
    "while current is not None:\n",
    "    print(current.value, end=\" -> \")\n",
    "    current = current.next\n",
    "\n",
    "print(\"\\nList 2:\")\n",
    "current = list2\n",
    "while current is not None:\n",
    "    print(current.value, end=\" -> \")\n",
    "    current = current.next\n",
    "\n",
    "# Merge the two sorted lists\n",
    "merged_list = merge_sorted_lists(list1, list2)\n",
    "\n",
    "print(\"\\nMerged Sorted List:\")\n",
    "current = merged_list\n",
    "while current is not None:\n",
    "    print(current.value, end=\" -> \")\n",
    "    current = current.next"
   ]
  },
  {
   "cell_type": "markdown",
   "id": "c14536f8",
   "metadata": {},
   "source": [
    "#### Problem 4: Find the intersection point of 2 linked lists Input: List 1: 1 -> 2 -> 3 -> 4, List 2: 9 -> 8 -> 3 -> 4 Output: Node with value 3"
   ]
  },
  {
   "cell_type": "code",
   "execution_count": 5,
   "id": "4e570993",
   "metadata": {
    "ExecuteTime": {
     "end_time": "2024-07-06T15:05:33.425342Z",
     "start_time": "2024-07-06T15:05:33.412774Z"
    }
   },
   "outputs": [],
   "source": [
    "class ListNode:\n",
    "    def __init__(self, value=0,next=None):\n",
    "        self.value = value \n",
    "        self.next = next\n",
    "    \n",
    "def get_intersection_node(head1,head2):\n",
    "    if not head1 or not head2:\n",
    "        return None\n",
    "    \n",
    "    pointer1, pointer2 = head1, head2\n",
    "    \n",
    "    while pointer1 != pointer2:\n",
    "        pointer1 = pointer1.next if pointer1 else head2\n",
    "        pointer2 = pointer2.next if pointer2 else head1\n",
    "    \n",
    "    return pointer1"
   ]
  },
  {
   "cell_type": "code",
   "execution_count": 6,
   "id": "03f291dd",
   "metadata": {
    "ExecuteTime": {
     "end_time": "2024-07-06T15:05:33.441019Z",
     "start_time": "2024-07-06T15:05:33.427327Z"
    }
   },
   "outputs": [
    {
     "name": "stdout",
     "output_type": "stream",
     "text": [
      "List 1:\n",
      "1 -> 2 -> 3 -> 4 -> \n",
      "List 2:\n",
      "9 -> 8 -> 3 -> 4 -> \n",
      "Intersection Node Value: 3\n"
     ]
    }
   ],
   "source": [
    "# Example usage:\n",
    "# Create two linked lists: 1 -> 2 -> 3 -> 4 and 9 -> 8 -> 3 -> 4\n",
    "list1 = ListNode(1, ListNode(2, ListNode(3, ListNode(4))))\n",
    "list2 = ListNode(9, ListNode(8, list1.next.next))  # Connect list2 to list1 at the node with value 3\n",
    "\n",
    "print(\"List 1:\")\n",
    "current = list1\n",
    "while current is not None:\n",
    "    print(current.value, end=\" -> \")\n",
    "    current = current.next\n",
    "\n",
    "print(\"\\nList 2:\")\n",
    "current = list2\n",
    "while current is not None:\n",
    "    print(current.value, end=\" -> \")\n",
    "    current = current.next\n",
    "\n",
    "intersection_node = get_intersection_node(list1, list2)\n",
    "if intersection_node:\n",
    "    print(\"\\nIntersection Node Value:\", intersection_node.value)\n",
    "else:\n",
    "    print(\"\\nNo Intersection\")"
   ]
  },
  {
   "cell_type": "markdown",
   "id": "6adfa226",
   "metadata": {},
   "source": [
    "##### Problem 5: Remove duplicates from a sorted list. Input: 1 -> 1 -> 2 -> 3 -> 3 Output: 1 -> 2 -> 3"
   ]
  },
  {
   "cell_type": "code",
   "execution_count": 7,
   "id": "3637fbee",
   "metadata": {
    "ExecuteTime": {
     "end_time": "2024-07-06T15:05:33.456929Z",
     "start_time": "2024-07-06T15:05:33.443862Z"
    }
   },
   "outputs": [],
   "source": [
    "class ListNode:\n",
    "    def __init__(self,value=0,next=None):\n",
    "        self.value = value\n",
    "        self.next = next\n",
    "\n",
    "def remove_duplicate(head):\n",
    "    current = head\n",
    "    \n",
    "    while current is not None and current.next is not None:\n",
    "        if current.value == current.next.value:\n",
    "            current.next = current.next.next\n",
    "        else:\n",
    "            current=current.next\n",
    "    return head"
   ]
  },
  {
   "cell_type": "code",
   "execution_count": 8,
   "id": "5c6abf0b",
   "metadata": {
    "ExecuteTime": {
     "end_time": "2024-07-06T15:05:33.472163Z",
     "start_time": "2024-07-06T15:05:33.458931Z"
    }
   },
   "outputs": [
    {
     "name": "stdout",
     "output_type": "stream",
     "text": [
      "Original Linked List:\n",
      "1 -> 1 -> 2 -> 3 -> 3 -> \n",
      "Linked List after Removing Duplicates:\n",
      "1 -> 2 -> 3 -> "
     ]
    }
   ],
   "source": [
    "# Example usage:\n",
    "# Create a sorted linked list: 1 -> 1 -> 2 -> 3 -> 3\n",
    "head = ListNode(1, ListNode(1, ListNode(2, ListNode(3, ListNode(3)))))\n",
    "\n",
    "print(\"Original Linked List:\")\n",
    "current = head\n",
    "while current is not None:\n",
    "    print(current.value, end=\" -> \")\n",
    "    current = current.next\n",
    "\n",
    "# Remove duplicates\n",
    "head = remove_duplicate(head)\n",
    "\n",
    "print(\"\\nLinked List after Removing Duplicates:\")\n",
    "current = head\n",
    "while current is not None:\n",
    "    print(current.value, end=\" -> \")\n",
    "    current = current.next"
   ]
  },
  {
   "cell_type": "markdown",
   "id": "8a24f3fd",
   "metadata": {
    "ExecuteTime": {
     "end_time": "2024-07-06T12:43:44.634520Z",
     "start_time": "2024-07-06T12:43:44.627520Z"
    }
   },
   "source": [
    "#### Problem 6: Add two numbers represented by linked lists (where each node contains a single digit). Input: List 1: 2 -> 4 -> 3, List 2: 5 -> 6 -> 4 (represents 342 + 465) Output: 7 -> 0 -> 8 (represents 807)"
   ]
  },
  {
   "cell_type": "code",
   "execution_count": 9,
   "id": "c28648e4",
   "metadata": {
    "ExecuteTime": {
     "end_time": "2024-07-06T15:05:33.488007Z",
     "start_time": "2024-07-06T15:05:33.474469Z"
    }
   },
   "outputs": [],
   "source": [
    "class ListNode:\n",
    "    def __init__(self,value=0,next=None):\n",
    "        self.value = value\n",
    "        self.next = next\n",
    "\n",
    "def add_two_numbers(l1,l2):\n",
    "    dummy = ListNode()\n",
    "    current = dummy\n",
    "    carry  = 0\n",
    "    \n",
    "    while l1 or l2 or carry:\n",
    "        # Get the values of the curent nodes or 0 if the node is None\n",
    "        x = l1.value if l1 else 0 \n",
    "        y = l2.value if l2 else 0\n",
    "        \n",
    "        # Calculate the sum and carry\n",
    "        _sum = x+y+carry\n",
    "        carry = _sum//10\n",
    "    \n",
    "        # Create a new node with the current digit\n",
    "\n",
    "        current.next = ListNode(_sum%10)\n",
    "        current = current.next\n",
    "\n",
    "        # move the next node if they exist\n",
    "\n",
    "        if l1:\n",
    "            l1 = l1.next\n",
    "        if l2:\n",
    "            l2 = l2.next\n",
    "    \n",
    "    return dummy.next"
   ]
  },
  {
   "cell_type": "code",
   "execution_count": 10,
   "id": "f429feda",
   "metadata": {
    "ExecuteTime": {
     "end_time": "2024-07-06T15:05:33.504665Z",
     "start_time": "2024-07-06T15:05:33.490006Z"
    }
   },
   "outputs": [
    {
     "name": "stdout",
     "output_type": "stream",
     "text": [
      "List 1:\n",
      "2 -> 4 -> 3 -> \n",
      "List 2:\n",
      "5 -> 6 -> 4 -> \n",
      "Result after adding two numbers:\n",
      "7 -> 0 -> 8 -> "
     ]
    }
   ],
   "source": [
    "# Example usage:\n",
    "# Create two linked lists: 2 -> 4 -> 3 and 5 -> 6 -> 4\n",
    "list1 = ListNode(2, ListNode(4, ListNode(3)))\n",
    "list2 = ListNode(5, ListNode(6, ListNode(4)))\n",
    "\n",
    "print(\"List 1:\")\n",
    "current = list1\n",
    "while current is not None:\n",
    "    print(current.value, end=\" -> \")\n",
    "    current = current.next\n",
    "\n",
    "print(\"\\nList 2:\")\n",
    "current = list2\n",
    "while current is not None:\n",
    "    print(current.value, end=\" -> \")\n",
    "    current = current.next\n",
    "\n",
    "# Add the two numbers\n",
    "result = add_two_numbers(list1, list2)\n",
    "\n",
    "print(\"\\nResult after adding two numbers:\")\n",
    "current = result\n",
    "while current is not None:\n",
    "    print(current.value, end=\" -> \")\n",
    "    current = current.next"
   ]
  },
  {
   "cell_type": "markdown",
   "id": "6304f012",
   "metadata": {},
   "source": [
    "##### Problem 7: Swap nodes in pairs in a linked list. Input: 1 -> 2 -> 3 -> 4 Output: 2 -> 1 -> 4 -> 3"
   ]
  },
  {
   "cell_type": "code",
   "execution_count": 11,
   "id": "5e5df7f7",
   "metadata": {
    "ExecuteTime": {
     "end_time": "2024-07-06T15:05:33.520106Z",
     "start_time": "2024-07-06T15:05:33.506575Z"
    }
   },
   "outputs": [],
   "source": [
    "class ListNode:\n",
    "    def __init__(self, value=0, next=None):\n",
    "        self.value = value\n",
    "        self.next = next\n",
    "\n",
    "def swap_pairs(head):\n",
    "    dummy = ListNode()\n",
    "    dummy.next = head\n",
    "    current = dummy\n",
    "    \n",
    "    while current.next and current.next.next:\n",
    "        \n",
    "        node1 = current.next \n",
    "        node2 = current.next.next\n",
    "        \n",
    "        node1.next = node2.next\n",
    "        node2.next = node1\n",
    "        current.next = node2\n",
    "        \n",
    "        current = node1\n",
    "        \n",
    "    return dummy.next"
   ]
  },
  {
   "cell_type": "code",
   "execution_count": 12,
   "id": "87af0212",
   "metadata": {
    "ExecuteTime": {
     "end_time": "2024-07-06T15:05:33.535648Z",
     "start_time": "2024-07-06T15:05:33.522102Z"
    }
   },
   "outputs": [
    {
     "name": "stdout",
     "output_type": "stream",
     "text": [
      "Original Linked List:\n",
      "1 -> 2 -> 3 -> 4 -> \n",
      "Linked List after Swapping Nodes in Pairs:\n",
      "2 -> 1 -> 4 -> 3 -> "
     ]
    }
   ],
   "source": [
    "# Example usage:\n",
    "# Create a linked list: 1 -> 2 -> 3 -> 4\n",
    "head = ListNode(1, ListNode(2, ListNode(3, ListNode(4))))\n",
    "\n",
    "print(\"Original Linked List:\")\n",
    "current = head\n",
    "while current is not None:\n",
    "    print(current.value, end=\" -> \")\n",
    "    current = current.next\n",
    "\n",
    "# Swap nodes in pairs\n",
    "head = swap_pairs(head)\n",
    "\n",
    "print(\"\\nLinked List after Swapping Nodes in Pairs:\")\n",
    "current = head\n",
    "while current is not None:\n",
    "    print(current.value, end=\" -> \")\n",
    "    current = current.next"
   ]
  },
  {
   "cell_type": "markdown",
   "id": "973fb592",
   "metadata": {},
   "source": [
    "##### Problem 8: Reverse nodes in a linked list in groups of k."
   ]
  },
  {
   "cell_type": "code",
   "execution_count": 13,
   "id": "520dd4ac",
   "metadata": {
    "ExecuteTime": {
     "end_time": "2024-07-06T15:05:33.551315Z",
     "start_time": "2024-07-06T15:05:33.537792Z"
    }
   },
   "outputs": [
    {
     "name": "stdout",
     "output_type": "stream",
     "text": [
      "Original linked list:\n",
      "1 -> 2 -> 3 -> 4 -> 5\n",
      "Linked list after reversing in groups of k:\n",
      "3 -> 2 -> 1 -> 4 -> 5\n"
     ]
    }
   ],
   "source": [
    "class ListNode:\n",
    "    def __init__(self, value=0, next=None):\n",
    "        self.value = value\n",
    "        self.next = next\n",
    "\n",
    "def reverse_k_group(head, k):\n",
    "    if head is None or k == 1:\n",
    "        return head\n",
    "\n",
    "    dummy = ListNode(0)\n",
    "    dummy.next = head\n",
    "    current, previous = head, dummy\n",
    "\n",
    "    # Count the number of nodes in the linked list\n",
    "    count = 0\n",
    "    while current:\n",
    "        count += 1\n",
    "        current = current.next\n",
    "\n",
    "    while count >= k:\n",
    "        current = previous.next\n",
    "        next_node = current.next\n",
    "        for _ in range(1, k):\n",
    "            current.next = next_node.next\n",
    "            next_node.next = previous.next\n",
    "            previous.next = next_node\n",
    "            next_node = current.next\n",
    "        previous = current\n",
    "        count -= k\n",
    "\n",
    "    return dummy.next\n",
    "\n",
    "def create_linked_list(values):\n",
    "    head = None\n",
    "    for value in reversed(values):\n",
    "        head = ListNode(value=value, next=head)\n",
    "    return head\n",
    "\n",
    "def print_linked_list(head):\n",
    "    current = head\n",
    "    while current:\n",
    "        print(current.value, end=\" -> \" if current.next else \"\")\n",
    "        current = current.next\n",
    "    print()\n",
    "\n",
    "# Example usage\n",
    "values = [1, 2, 3, 4, 5]\n",
    "k = 3\n",
    "head = create_linked_list(values)\n",
    "print(\"Original linked list:\")\n",
    "print_linked_list(head)\n",
    "\n",
    "head = reverse_k_group(head, k)\n",
    "print(\"Linked list after reversing in groups of k:\")\n",
    "print_linked_list(head)\n"
   ]
  },
  {
   "cell_type": "markdown",
   "id": "50af5f25",
   "metadata": {},
   "source": [
    "#### Problem 9: Determine if a linked list is a palindrome."
   ]
  },
  {
   "cell_type": "code",
   "execution_count": 14,
   "id": "3109d790",
   "metadata": {
    "ExecuteTime": {
     "end_time": "2024-07-06T15:05:33.566857Z",
     "start_time": "2024-07-06T15:05:33.556332Z"
    }
   },
   "outputs": [],
   "source": [
    "class ListNode:\n",
    "    def __init__(self, value=0, next=None):\n",
    "        self.value = value\n",
    "        self.next = next\n",
    "        \n",
    "def isPalindrome(head):\n",
    "    # Traverse the linked list and store elements in an array\n",
    "    values = []\n",
    "    current = head\n",
    "    \n",
    "    while current:\n",
    "        values.append(current.value)\n",
    "        current = current.next\n",
    "    \n",
    "    # use two pointers to check for palindrome \n",
    "    left, right = 0, len(values)-1\n",
    "    while left < right:\n",
    "        if values[left] != values[right]:\n",
    "            return False\n",
    "        left += 1\n",
    "        right -= 1\n",
    "    return True"
   ]
  },
  {
   "cell_type": "code",
   "execution_count": 15,
   "id": "a6e41670",
   "metadata": {
    "ExecuteTime": {
     "end_time": "2024-07-06T15:05:33.581904Z",
     "start_time": "2024-07-06T15:05:33.569385Z"
    }
   },
   "outputs": [
    {
     "name": "stdout",
     "output_type": "stream",
     "text": [
      "True\n"
     ]
    }
   ],
   "source": [
    "# Example usage\n",
    "# Create a sample linked list: 1 -> 2 -> 3 -> 2 -> 1\n",
    "head = ListNode(1)\n",
    "head.next = ListNode(2)\n",
    "head.next.next = ListNode(3)\n",
    "head.next.next.next = ListNode(2)\n",
    "head.next.next.next.next = ListNode(1)\n",
    "\n",
    "print(isPalindrome(head))  # Output: True"
   ]
  },
  {
   "cell_type": "markdown",
   "id": "ba46d370",
   "metadata": {},
   "source": [
    "##### Problem 10: Rotate a linked list to the right by k places."
   ]
  },
  {
   "cell_type": "code",
   "execution_count": 16,
   "id": "e1b04d26",
   "metadata": {
    "ExecuteTime": {
     "end_time": "2024-07-06T15:05:33.597093Z",
     "start_time": "2024-07-06T15:05:33.583913Z"
    }
   },
   "outputs": [],
   "source": [
    "class ListNode:\n",
    "    def __init__(self, val=0, next=None):\n",
    "        self.val = val\n",
    "        self.next = next\n",
    "\n",
    "def rotate_right(head, k):\n",
    "    if not head or k == 0:\n",
    "        return head\n",
    "    \n",
    "    # Step 1: Find the length of the linked list\n",
    "    length = 1\n",
    "    tail = head\n",
    "    while tail.next:\n",
    "        tail = tail.next\n",
    "        length += 1\n",
    "    \n",
    "    # Calculate the effective rotation value\n",
    "    k = k % length\n",
    "    \n",
    "    if k == 0:\n",
    "        return head\n",
    "    \n",
    "    # Step 2: Identify the new head and new tail positions\n",
    "    new_tail = head\n",
    "    for _ in range(length - k - 1):\n",
    "        new_tail = new_tail.next\n",
    "    \n",
    "    new_head = new_tail.next\n",
    "    new_tail.next = None\n",
    "    tail.next = head\n",
    "    \n",
    "    return new_head\n"
   ]
  },
  {
   "cell_type": "code",
   "execution_count": 17,
   "id": "64d22675",
   "metadata": {
    "ExecuteTime": {
     "end_time": "2024-07-06T15:05:33.613142Z",
     "start_time": "2024-07-06T15:05:33.599087Z"
    }
   },
   "outputs": [
    {
     "name": "stdout",
     "output_type": "stream",
     "text": [
      "Original Linked List:\n",
      "1 -> 2 -> 3 -> 4 -> 5 -> None\n",
      "Linked List after rotating right by 2 places:\n",
      "4 -> 5 -> 1 -> 2 -> 3 -> None\n"
     ]
    }
   ],
   "source": [
    "# Helper function to print the linked list\n",
    "def print_linked_list(head):\n",
    "    current = head\n",
    "    while current:\n",
    "        print(current.val, end=\" -> \")\n",
    "        current = current.next\n",
    "    print(\"None\")\n",
    "\n",
    "# Example usage\n",
    "# Create a sample linked list: 1 -> 2 -> 3 -> 4 -> 5\n",
    "head = ListNode(1)\n",
    "head.next = ListNode(2)\n",
    "head.next.next = ListNode(3)\n",
    "head.next.next.next = ListNode(4)\n",
    "head.next.next.next.next = ListNode(5)\n",
    "\n",
    "print(\"Original Linked List:\")\n",
    "print_linked_list(head)\n",
    "\n",
    "k = 2\n",
    "rotated_head = rotate_right(head, k)\n",
    "\n",
    "print(f\"Linked List after rotating right by {k} places:\")\n",
    "print_linked_list(rotated_head)"
   ]
  },
  {
   "cell_type": "markdown",
   "id": "b007a50b",
   "metadata": {},
   "source": [
    "##### Problem 11: Flatten a multilevel doubly linked list."
   ]
  },
  {
   "cell_type": "code",
   "execution_count": 18,
   "id": "16f6b8d2",
   "metadata": {
    "ExecuteTime": {
     "end_time": "2024-07-06T15:05:33.628667Z",
     "start_time": "2024-07-06T15:05:33.615140Z"
    }
   },
   "outputs": [
    {
     "name": "stdout",
     "output_type": "stream",
     "text": [
      "Original Doubly Linked List:\n",
      "1 <=> 2 <=> 3 <=> 7 <=> 8 <=> 11 <=> 12 \n",
      "\n",
      "Flattened Doubly Linked List:\n",
      "1 <=> 2 <=> 3 <=> 4 <=> 5 <=> 6 <=> 7 <=> 8 <=> 9 <=> 10 <=> 11 <=> 12 \n"
     ]
    }
   ],
   "source": [
    "class Node:\n",
    "    def __init__(self, val, prev=None, next=None, child=None):\n",
    "        self.val = val\n",
    "        self.prev = prev\n",
    "        self.next = next\n",
    "        self.child = child\n",
    "\n",
    "def flatten(head):\n",
    "    if not head:\n",
    "        return None\n",
    "    \n",
    "    current = head\n",
    "    while current:\n",
    "        if current.child:\n",
    "            child_tail = current.child\n",
    "            while child_tail.next:\n",
    "                child_tail = child_tail.next\n",
    "            \n",
    "            child_tail.next = current.next\n",
    "            if current.next:\n",
    "                current.next.prev = child_tail\n",
    "            \n",
    "            current.next = current.child\n",
    "            current.child.prev = current\n",
    "            current.child = None\n",
    "        \n",
    "        current = current.next\n",
    "    \n",
    "    return head\n",
    "\n",
    "# Helper function to print the flattened doubly linked list\n",
    "def print_list(head):\n",
    "    current = head\n",
    "    while current:\n",
    "        print(current.val, end=\" \")\n",
    "        if current.next:\n",
    "            print(\"<=>\", end=\" \")\n",
    "        current = current.next\n",
    "    print()\n",
    "\n",
    "# Example usage\n",
    "# Constructing a sample multilevel doubly linked list:\n",
    "# 1 <-> 2 <-> 3 <-> 7 <-> 8 <-> 11 <-> 12 <-> 9 <-> 10\n",
    "#          |          |\n",
    "#          4 <-> 5 <-> 6\n",
    "head = Node(1)\n",
    "head.next = Node(2)\n",
    "head.next.prev = head\n",
    "head.next.next = Node(3)\n",
    "head.next.next.prev = head.next\n",
    "head.next.next.next = Node(7)\n",
    "head.next.next.next.prev = head.next.next\n",
    "head.next.next.next.next = Node(8)\n",
    "head.next.next.next.next.prev = head.next.next.next\n",
    "head.next.next.next.next.next = Node(11)\n",
    "head.next.next.next.next.next.prev = head.next.next.next.next\n",
    "head.next.next.next.next.next.next = Node(12)\n",
    "head.next.next.next.next.next.next.prev = head.next.next.next.next\n",
    "head.next.next.child = Node(4)\n",
    "head.next.next.child.next = Node(5)\n",
    "head.next.next.child.next.prev = head.next.next.child\n",
    "head.next.next.child.next.next = Node(6)\n",
    "head.next.next.child.next.next.prev = head.next.next.child.next\n",
    "head.next.next.next.next.child = Node(9)\n",
    "head.next.next.next.next.child.next = Node(10)\n",
    "head.next.next.next.next.child.next.prev = head.next.next.next.next.child\n",
    "\n",
    "print(\"Original Doubly Linked List:\")\n",
    "print_list(head)\n",
    "\n",
    "flatten_head = flatten(head)\n",
    "\n",
    "print(\"\\nFlattened Doubly Linked List:\")\n",
    "print_list(flatten_head)"
   ]
  },
  {
   "cell_type": "markdown",
   "id": "357256aa",
   "metadata": {},
   "source": [
    "##### Problem 12: Rearrange a linked list such that all even positioned nodes are placed at the end."
   ]
  },
  {
   "cell_type": "code",
   "execution_count": 19,
   "id": "7fee8cbd",
   "metadata": {
    "ExecuteTime": {
     "end_time": "2024-07-06T15:05:33.644345Z",
     "start_time": "2024-07-06T15:05:33.630669Z"
    }
   },
   "outputs": [
    {
     "name": "stdout",
     "output_type": "stream",
     "text": [
      "Original Linked List:\n",
      "1 -> 2 -> 3 -> 4 -> 5 -> None\n",
      "\n",
      "Rearranged Linked List:\n",
      "1 -> 3 -> 5 -> 2 -> 4 -> None\n"
     ]
    }
   ],
   "source": [
    "class ListNode:\n",
    "    def __init__(self, val=0, next=None):\n",
    "        self.val = val\n",
    "        self.next = next\n",
    "\n",
    "def rearrange_linked_list(head):\n",
    "    if not head or not head.next:\n",
    "        return head\n",
    "\n",
    "    # Separate odd and even-positioned nodes\n",
    "    odd_head = ListNode(0)\n",
    "    even_head = ListNode(0)\n",
    "    odd_current = odd_head\n",
    "    even_current = even_head\n",
    "    current = head\n",
    "    is_odd = True\n",
    "\n",
    "    while current:\n",
    "        if is_odd:\n",
    "            odd_current.next = current\n",
    "            odd_current = odd_current.next\n",
    "        else:\n",
    "            even_current.next = current\n",
    "            even_current = even_current.next\n",
    "\n",
    "        is_odd = not is_odd\n",
    "        current = current.next\n",
    "\n",
    "    # Connect odd and even lists\n",
    "    odd_current.next = even_head.next\n",
    "    even_current.next = None\n",
    "\n",
    "    return odd_head.next\n",
    "\n",
    "# Helper function to print the linked list\n",
    "def print_linked_list(head):\n",
    "    current = head\n",
    "    while current:\n",
    "        print(current.val, end=\" -> \")\n",
    "        current = current.next\n",
    "    print(\"None\")\n",
    "\n",
    "# Example usage\n",
    "# Create a sample linked list: 1 -> 2 -> 3 -> 4 -> 5\n",
    "head = ListNode(1)\n",
    "head.next = ListNode(2)\n",
    "head.next.next = ListNode(3)\n",
    "head.next.next.next = ListNode(4)\n",
    "head.next.next.next.next = ListNode(5)\n",
    "\n",
    "print(\"Original Linked List:\")\n",
    "print_linked_list(head)\n",
    "\n",
    "rearranged_head = rearrange_linked_list(head)\n",
    "\n",
    "print(\"\\nRearranged Linked List:\")\n",
    "print_linked_list(rearranged_head)"
   ]
  },
  {
   "cell_type": "markdown",
   "id": "b03defee",
   "metadata": {},
   "source": [
    "##### Problem 13: Given a non-negative number represented as a linked list, add one to it."
   ]
  },
  {
   "cell_type": "code",
   "execution_count": 20,
   "id": "66889939",
   "metadata": {
    "ExecuteTime": {
     "end_time": "2024-07-06T15:05:33.659886Z",
     "start_time": "2024-07-06T15:05:33.647365Z"
    }
   },
   "outputs": [
    {
     "name": "stdout",
     "output_type": "stream",
     "text": [
      "Original Linked List:\n",
      "1 -> 2 -> 3 -> None\n",
      "\n",
      "Linked List after adding one:\n",
      "1 -> 2 -> 4 -> None\n"
     ]
    }
   ],
   "source": [
    "class ListNode:\n",
    "    def __init__(self, val=0, next=None):\n",
    "        self.val = val\n",
    "        self.next = next\n",
    "\n",
    "def add_one(head):\n",
    "    # Step 1: Traverse to find the last node\n",
    "    last_node = None\n",
    "    current = head\n",
    "    while current:\n",
    "        last_node = current\n",
    "        current = current.next\n",
    "    \n",
    "    # Step 2: Start adding 1 to the last node\n",
    "    current = last_node\n",
    "    carry = 1\n",
    "    while current and carry:\n",
    "        current.val += carry\n",
    "        carry = current.val // 10\n",
    "        current.val %= 10\n",
    "        if carry and not current.next:\n",
    "            current.next = ListNode(carry)\n",
    "            carry = 0\n",
    "        current = current.next\n",
    "    \n",
    "    return head\n",
    "\n",
    "# Helper function to print the linked list\n",
    "def print_linked_list(head):\n",
    "    current = head\n",
    "    while current:\n",
    "        print(current.val, end=\" -> \")\n",
    "        current = current.next\n",
    "    print(\"None\")\n",
    "\n",
    "# Example usage\n",
    "# Create a sample linked list: 1 -> 2 -> 3\n",
    "head = ListNode(1)\n",
    "head.next = ListNode(2)\n",
    "head.next.next = ListNode(3)\n",
    "\n",
    "print(\"Original Linked List:\")\n",
    "print_linked_list(head)\n",
    "\n",
    "new_head = add_one(head)\n",
    "\n",
    "print(\"\\nLinked List after adding one:\")\n",
    "print_linked_list(new_head)"
   ]
  },
  {
   "cell_type": "markdown",
   "id": "2bbdb8c4",
   "metadata": {
    "ExecuteTime": {
     "end_time": "2024-07-06T14:51:30.005624Z",
     "start_time": "2024-07-06T14:51:29.995079Z"
    }
   },
   "source": [
    "#### Problem 14: Given a sorted array and a target value, return the index if the target is found. If not, return the index where it would be inserted."
   ]
  },
  {
   "cell_type": "code",
   "execution_count": 21,
   "id": "c39156fd",
   "metadata": {
    "ExecuteTime": {
     "end_time": "2024-07-06T15:05:33.675931Z",
     "start_time": "2024-07-06T15:05:33.661888Z"
    }
   },
   "outputs": [
    {
     "name": "stdout",
     "output_type": "stream",
     "text": [
      "2\n",
      "1\n",
      "4\n",
      "0\n"
     ]
    }
   ],
   "source": [
    "def search_insert_position(nums, target):\n",
    "    left, right = 0, len(nums) - 1\n",
    "    \n",
    "    while left <= right:\n",
    "        mid = left + (right - left) // 2\n",
    "        \n",
    "        if nums[mid] == target:\n",
    "            return mid\n",
    "        elif nums[mid] < target:\n",
    "            left = mid + 1\n",
    "        else:\n",
    "            right = mid - 1\n",
    "    \n",
    "    return left\n",
    "\n",
    "# Example usage\n",
    "nums = [1, 3, 5, 6]\n",
    "target = 5\n",
    "print(search_insert_position(nums, target))  # Output: 2\n",
    "\n",
    "target = 2\n",
    "print(search_insert_position(nums, target))  # Output: 1\n",
    "\n",
    "target = 7\n",
    "print(search_insert_position(nums, target))  # Output: 4\n",
    "\n",
    "target = 0\n",
    "print(search_insert_position(nums, target))  # Output: 0"
   ]
  },
  {
   "cell_type": "markdown",
   "id": "e1ae56c2",
   "metadata": {},
   "source": [
    "#### Problem 15: Find the minimum element in a rotated sorted array."
   ]
  },
  {
   "cell_type": "code",
   "execution_count": 22,
   "id": "e6a82d63",
   "metadata": {
    "ExecuteTime": {
     "end_time": "2024-07-06T15:05:33.691280Z",
     "start_time": "2024-07-06T15:05:33.677934Z"
    }
   },
   "outputs": [
    {
     "name": "stdout",
     "output_type": "stream",
     "text": [
      "0\n",
      "1\n",
      "11\n"
     ]
    }
   ],
   "source": [
    "def find_min_in_rotated_sorted_array(nums):\n",
    "    left, right = 0, len(nums) - 1\n",
    "    \n",
    "    while left < right:\n",
    "        mid = left + (right - left) // 2\n",
    "        \n",
    "        # If mid element is greater than the rightmost element,\n",
    "        # the minimum element must be in the right half.\n",
    "        if nums[mid] > nums[right]:\n",
    "            left = mid + 1\n",
    "        # If mid element is less than or equal to the rightmost element,\n",
    "        # the minimum element must be in the left half (including mid).\n",
    "        else:\n",
    "            right = mid\n",
    "    \n",
    "    # At the end of the loop, left will point to the minimum element.\n",
    "    return nums[left]\n",
    "\n",
    "# Example usage\n",
    "nums = [4, 5, 6, 7, 0, 1, 2]\n",
    "print(find_min_in_rotated_sorted_array(nums))  # Output: 0\n",
    "\n",
    "nums = [3, 4, 5, 1, 2]\n",
    "print(find_min_in_rotated_sorted_array(nums))  # Output: 1\n",
    "\n",
    "nums = [11, 13, 15, 17]\n",
    "print(find_min_in_rotated_sorted_array(nums))  # Output: 11"
   ]
  },
  {
   "cell_type": "markdown",
   "id": "e7e5c832",
   "metadata": {},
   "source": [
    "#### Problem 16: Search for a target value in a rotated sorted array."
   ]
  },
  {
   "cell_type": "code",
   "execution_count": 23,
   "id": "0f3662ff",
   "metadata": {
    "ExecuteTime": {
     "end_time": "2024-07-06T15:05:33.707420Z",
     "start_time": "2024-07-06T15:05:33.693280Z"
    }
   },
   "outputs": [
    {
     "name": "stdout",
     "output_type": "stream",
     "text": [
      "4\n",
      "-1\n"
     ]
    }
   ],
   "source": [
    "def search_rotated_sorted_array(nums, target):\n",
    "    left, right = 0, len(nums) - 1\n",
    "    \n",
    "    while left <= right:\n",
    "        mid = left + (right - left) // 2\n",
    "        \n",
    "        # If target is found at mid, return its index\n",
    "        if nums[mid] == target:\n",
    "            return mid\n",
    "        \n",
    "        # Check if left half is sorted\n",
    "        if nums[left] <= nums[mid]:\n",
    "            # Check if target is within the sorted left half\n",
    "            if nums[left] <= target < nums[mid]:\n",
    "                right = mid - 1\n",
    "            else:\n",
    "                left = mid + 1\n",
    "        # Otherwise, right half must be sorted\n",
    "        else:\n",
    "            # Check if target is within the sorted right half\n",
    "            if nums[mid] < target <= nums[right]:\n",
    "                left = mid + 1\n",
    "            else:\n",
    "                right = mid - 1\n",
    "    \n",
    "    # If target is not found, return -1\n",
    "    return -1\n",
    "\n",
    "# Example usage\n",
    "nums = [4, 5, 6, 7, 0, 1, 2]\n",
    "target = 0\n",
    "print(search_rotated_sorted_array(nums, target))  # Output: 4\n",
    "\n",
    "target = 3\n",
    "print(search_rotated_sorted_array(nums, target))  # Output: -1"
   ]
  },
  {
   "cell_type": "markdown",
   "id": "3ca59c64",
   "metadata": {},
   "source": [
    "#### 17)Find the peak element in an array. A peak element is greater than its neighbors."
   ]
  },
  {
   "cell_type": "code",
   "execution_count": 24,
   "id": "d2ce5c24",
   "metadata": {
    "ExecuteTime": {
     "end_time": "2024-07-06T15:05:33.722847Z",
     "start_time": "2024-07-06T15:05:33.709322Z"
    }
   },
   "outputs": [
    {
     "name": "stdout",
     "output_type": "stream",
     "text": [
      "Peak element index: 2\n"
     ]
    }
   ],
   "source": [
    "def find_peak_element(nums):\n",
    "    left, right = 0, len(nums) - 1\n",
    "    \n",
    "    while left < right:\n",
    "        mid = (left + right) // 2\n",
    "        if nums[mid] < nums[mid + 1]:\n",
    "            left = mid + 1\n",
    "        else:\n",
    "            right = mid\n",
    "    \n",
    "    return left\n",
    "\n",
    "# Example usage\n",
    "nums = [1, 2, 3, 1]\n",
    "peak_index = find_peak_element(nums)\n",
    "print(\"Peak element index:\", peak_index)\n"
   ]
  },
  {
   "cell_type": "markdown",
   "id": "d330c701",
   "metadata": {},
   "source": [
    "#### Problem 18: Given a m x n matrix where each row and column is sorted in ascending order, count the number of negative numbers."
   ]
  },
  {
   "cell_type": "code",
   "execution_count": 25,
   "id": "e168285c",
   "metadata": {
    "ExecuteTime": {
     "end_time": "2024-07-06T15:05:33.739003Z",
     "start_time": "2024-07-06T15:05:33.724849Z"
    }
   },
   "outputs": [
    {
     "name": "stdout",
     "output_type": "stream",
     "text": [
      "8\n"
     ]
    }
   ],
   "source": [
    "def count_negatives(matrix):\n",
    "    count = 0\n",
    "    rows, cols = len(matrix), len(matrix[0])\n",
    "    row, col = 0, cols - 1\n",
    "    \n",
    "    while row < rows and col >= 0:\n",
    "        if matrix[row][col] < 0:\n",
    "            count += rows - row\n",
    "            col -= 1\n",
    "        else:\n",
    "            row += 1\n",
    "    \n",
    "    return count\n",
    "\n",
    "# Example usage\n",
    "matrix = [\n",
    "    [4, 3, 2, -1],\n",
    "    [3, 2, 1, -1],\n",
    "    [1, 1, -1, -2],\n",
    "    [-1, -1, -2, -3]\n",
    "]\n",
    "print(count_negatives(matrix))  # Output: 8"
   ]
  },
  {
   "cell_type": "markdown",
   "id": "a4de4969",
   "metadata": {},
   "source": [
    "#### Problem 19: Given a 2D matrix sorted in ascending order in each row, and the first integer of each row is greater than the last integer of the previous row, determine if a target value is present in the matrix."
   ]
  },
  {
   "cell_type": "code",
   "execution_count": 26,
   "id": "e7c347f5",
   "metadata": {
    "ExecuteTime": {
     "end_time": "2024-07-06T15:05:33.754430Z",
     "start_time": "2024-07-06T15:05:33.740892Z"
    }
   },
   "outputs": [
    {
     "name": "stdout",
     "output_type": "stream",
     "text": [
      "True\n"
     ]
    }
   ],
   "source": [
    "def search_matrix(matrix, target):\n",
    "    if not matrix or not matrix[0]:\n",
    "        return False\n",
    "    \n",
    "    rows, cols = len(matrix), len(matrix[0])\n",
    "    left, right = 0, rows * cols - 1\n",
    "    \n",
    "    while left <= right:\n",
    "        mid = (left + right) // 2\n",
    "        mid_value = matrix[mid // cols][mid % cols]\n",
    "        \n",
    "        if mid_value == target:\n",
    "            return True\n",
    "        elif mid_value < target:\n",
    "            left = mid + 1\n",
    "        else:\n",
    "            right = mid - 1\n",
    "            \n",
    "    return False\n",
    "\n",
    "# Example usage\n",
    "matrix = [\n",
    "    [1, 3, 5, 7],\n",
    "    [10, 11, 16, 20],\n",
    "    [23, 30, 34, 60]\n",
    "]\n",
    "target = 3\n",
    "print(search_matrix(matrix, target))  # Output: True"
   ]
  },
  {
   "cell_type": "markdown",
   "id": "c01b901c",
   "metadata": {},
   "source": [
    "#### Problem 20: Find Median in Two Sorted Arrays Problem: Given two sorted arrays, find the median of the combined sorted array."
   ]
  },
  {
   "cell_type": "code",
   "execution_count": 27,
   "id": "f4693466",
   "metadata": {
    "ExecuteTime": {
     "end_time": "2024-07-06T15:05:33.769840Z",
     "start_time": "2024-07-06T15:05:33.756432Z"
    }
   },
   "outputs": [
    {
     "name": "stdout",
     "output_type": "stream",
     "text": [
      "2.0\n"
     ]
    }
   ],
   "source": [
    "def findMedianSortedArrays(nums1, nums2):\n",
    "    # Ensure nums1 is the smaller or equal size array for simplicity\n",
    "    if len(nums1) > len(nums2):\n",
    "        nums1, nums2 = nums2, nums1\n",
    "\n",
    "    m, n = len(nums1), len(nums2)\n",
    "    total_len = m + n\n",
    "    half_len = (total_len + 1) // 2  # Length of the left half for median calculation\n",
    "\n",
    "    left, right = 0, m  # Binary search boundaries for nums1\n",
    "\n",
    "    while left <= right:\n",
    "        partitionX = (left + right) // 2\n",
    "        partitionY = half_len - partitionX\n",
    "\n",
    "        maxLeftX = float('-inf') if partitionX == 0 else nums1[partitionX - 1]\n",
    "        minRightX = float('inf') if partitionX == m else nums1[partitionX]\n",
    "\n",
    "        maxLeftY = float('-inf') if partitionY == 0 else nums2[partitionY - 1]\n",
    "        minRightY = float('inf') if partitionY == n else nums2[partitionY]\n",
    "\n",
    "        if maxLeftX <= minRightY and maxLeftY <= minRightX:\n",
    "            # Found the correct partition\n",
    "            if total_len % 2 == 0:\n",
    "                return (max(maxLeftX, maxLeftY) + min(minRightX, minRightY)) / 2\n",
    "            else:\n",
    "                return float(max(maxLeftX, maxLeftY))\n",
    "\n",
    "        elif maxLeftX > minRightY:\n",
    "            # Move left in nums1\n",
    "            right = partitionX - 1\n",
    "        else:\n",
    "            # Move right in nums1\n",
    "            left = partitionX + 1\n",
    "\n",
    "    # If we reach here, arrays are not sorted\n",
    "    raise ValueError(\"Input arrays are not sorted\")\n",
    "\n",
    "# Example usage\n",
    "nums1 = [1, 3]\n",
    "nums2 = [2]\n",
    "print(findMedianSortedArrays(nums1, nums2))  # Output: 2.0\n"
   ]
  },
  {
   "cell_type": "markdown",
   "id": "bd3fe4eb",
   "metadata": {},
   "source": [
    "#### Problem 21: Given a sorted character array and a target letter, find the smallest letter in the array that is greater than the target."
   ]
  },
  {
   "cell_type": "code",
   "execution_count": 28,
   "id": "798376eb",
   "metadata": {
    "ExecuteTime": {
     "end_time": "2024-07-06T15:05:33.785095Z",
     "start_time": "2024-07-06T15:05:33.771956Z"
    }
   },
   "outputs": [
    {
     "name": "stdout",
     "output_type": "stream",
     "text": [
      "c\n"
     ]
    }
   ],
   "source": [
    "def nextGreatestLetter(letters, target):\n",
    "    left, right = 0, len(letters) - 1\n",
    "    \n",
    "    while left <= right:\n",
    "        mid = left + (right - left) // 2\n",
    "        \n",
    "        # If the middle element is smaller than or equal to the target,\n",
    "        # search in the right half.\n",
    "        if letters[mid] <= target:\n",
    "            left = mid + 1\n",
    "        # If the middle element is greater than the target,\n",
    "        # search in the left half and update the result.\n",
    "        else:\n",
    "            right = mid - 1\n",
    "    \n",
    "    # After the loop, left will point to the smallest letter greater than the target.\n",
    "    # If left exceeds the length of the array, return the first element (cyclically).\n",
    "    return letters[left % len(letters)]\n",
    "\n",
    "# Example usage\n",
    "letters = [\"c\", \"f\", \"j\"]\n",
    "target = \"a\"\n",
    "print(nextGreatestLetter(letters, target))  # Output: \"c\"\n"
   ]
  },
  {
   "cell_type": "markdown",
   "id": "91385767",
   "metadata": {},
   "source": [
    "#### Problem 22: Given an array with n objects colored red, white, or blue, sort them in-place so that objects of the same color are adjacent, with the colors in the order red, white, and blue."
   ]
  },
  {
   "cell_type": "code",
   "execution_count": 29,
   "id": "3f487483",
   "metadata": {
    "ExecuteTime": {
     "end_time": "2024-07-06T15:05:33.801133Z",
     "start_time": "2024-07-06T15:05:33.787099Z"
    }
   },
   "outputs": [
    {
     "name": "stdout",
     "output_type": "stream",
     "text": [
      "[0, 0, 1, 1, 2, 2]\n"
     ]
    }
   ],
   "source": [
    "def sortColors(nums):\n",
    "    left, right = 0, len(nums) - 1\n",
    "    current = 0\n",
    "    \n",
    "    while current <= right:\n",
    "        if nums[current] == 0:\n",
    "            nums[left], nums[current] = nums[current], nums[left]\n",
    "            left += 1\n",
    "            current += 1\n",
    "        elif nums[current] == 2:\n",
    "            nums[current], nums[right] = nums[right], nums[current]\n",
    "            right -= 1\n",
    "        else:\n",
    "            current += 1\n",
    "\n",
    "# Example usage\n",
    "nums = [2, 0, 2, 1, 1, 0]\n",
    "sortColors(nums)\n",
    "print(nums)  # Output: [0, 0, 1, 1, 2, 2]"
   ]
  },
  {
   "cell_type": "markdown",
   "id": "a009744b",
   "metadata": {},
   "source": [
    "#### Problem 23: Find the kth largest element in an unsorted array."
   ]
  },
  {
   "cell_type": "code",
   "execution_count": 30,
   "id": "f34d8eab",
   "metadata": {
    "ExecuteTime": {
     "end_time": "2024-07-06T15:05:33.816970Z",
     "start_time": "2024-07-06T15:05:33.803135Z"
    }
   },
   "outputs": [
    {
     "name": "stdout",
     "output_type": "stream",
     "text": [
      "5\n"
     ]
    }
   ],
   "source": [
    "import heapq\n",
    "\n",
    "def findKthLargest(nums, k):\n",
    "    # Convert the input list into a max heap\n",
    "    heap = nums[:k]\n",
    "    heapq.heapify(heap)\n",
    "    \n",
    "    # Traverse the remaining elements of the array\n",
    "    for num in nums[k:]:\n",
    "        # If the current element is larger than the smallest element in the heap\n",
    "        # (which is the root of the max heap), replace the smallest element with the current element\n",
    "        if num > heap[0]:\n",
    "            heapq.heappop(heap)\n",
    "            heapq.heappush(heap, num)\n",
    "    \n",
    "    # The kth largest element is the root of the max heap\n",
    "    return heap[0]\n",
    "\n",
    "# Example usage\n",
    "nums = [3, 2, 1, 5, 6, 4]\n",
    "k = 2\n",
    "print(findKthLargest(nums, k))  # Output: 5"
   ]
  },
  {
   "cell_type": "markdown",
   "id": "dd06de68",
   "metadata": {
    "ExecuteTime": {
     "end_time": "2024-07-06T14:54:09.970454Z",
     "start_time": "2024-07-06T14:54:09.955366Z"
    }
   },
   "source": [
    "#### Problem 24: Given an unsorted array, reorder it in-place such that nums[0] <= nums[1] >= nums[2] <= nums[3]..."
   ]
  },
  {
   "cell_type": "code",
   "execution_count": 31,
   "id": "219184f2",
   "metadata": {
    "ExecuteTime": {
     "end_time": "2024-07-06T15:05:33.832492Z",
     "start_time": "2024-07-06T15:05:33.818959Z"
    }
   },
   "outputs": [
    {
     "name": "stdout",
     "output_type": "stream",
     "text": [
      "[3, 5, 1, 6, 2, 4]\n"
     ]
    }
   ],
   "source": [
    "def wiggle_sort(nums):\n",
    "    for i in range(len(nums) - 1):\n",
    "        if (i % 2 == 0 and nums[i] > nums[i + 1]) or (i % 2 == 1 and nums[i] < nums[i + 1]):\n",
    "            nums[i], nums[i + 1] = nums[i + 1], nums[i]\n",
    "\n",
    "# Example usage\n",
    "nums = [3, 5, 2, 1, 6, 4]\n",
    "wiggle_sort(nums)\n",
    "print(nums)  # Output: [3, 5, 1, 6, 2, 4]"
   ]
  },
  {
   "cell_type": "markdown",
   "id": "dc4b5efb",
   "metadata": {},
   "source": [
    "#### Problem 25: Given an array of integers, calculate the sum of all its elements."
   ]
  },
  {
   "cell_type": "code",
   "execution_count": 32,
   "id": "39cd1995",
   "metadata": {
    "ExecuteTime": {
     "end_time": "2024-07-06T15:05:33.848585Z",
     "start_time": "2024-07-06T15:05:33.835059Z"
    }
   },
   "outputs": [
    {
     "name": "stdout",
     "output_type": "stream",
     "text": [
      "15\n"
     ]
    }
   ],
   "source": [
    "def sum_of_array_elements(nums):\n",
    "    sum = 0\n",
    "    for num in nums:\n",
    "        sum += num\n",
    "    return sum\n",
    "\n",
    "# Example usage\n",
    "nums = [1, 2, 3, 4, 5]\n",
    "print(sum_of_array_elements(nums))  # Output: 15"
   ]
  },
  {
   "cell_type": "markdown",
   "id": "261e29d5",
   "metadata": {},
   "source": [
    "##### Problem 26: Find the maximum element in an array of integers."
   ]
  },
  {
   "cell_type": "code",
   "execution_count": 33,
   "id": "153b7a79",
   "metadata": {
    "ExecuteTime": {
     "end_time": "2024-07-06T15:05:33.864638Z",
     "start_time": "2024-07-06T15:05:33.851582Z"
    }
   },
   "outputs": [
    {
     "name": "stdout",
     "output_type": "stream",
     "text": [
      "9\n"
     ]
    }
   ],
   "source": [
    "def find_max_element(nums):\n",
    "    if not nums:\n",
    "        return None\n",
    "    \n",
    "    max_element = nums[0]\n",
    "    for num in nums[1:]:\n",
    "        if num > max_element:\n",
    "            max_element = num\n",
    "    return max_element\n",
    "\n",
    "# Example usage\n",
    "nums = [3, 7, 2, 9, 4, 1]\n",
    "print(find_max_element(nums))  # Output: 9"
   ]
  },
  {
   "cell_type": "markdown",
   "id": "53e2bd85",
   "metadata": {},
   "source": [
    "#### Problem 27: Implement linear search to find the index of a target element in an array."
   ]
  },
  {
   "cell_type": "code",
   "execution_count": 34,
   "id": "7cbb2796",
   "metadata": {
    "ExecuteTime": {
     "end_time": "2024-07-06T15:05:33.880727Z",
     "start_time": "2024-07-06T15:05:33.867157Z"
    }
   },
   "outputs": [
    {
     "name": "stdout",
     "output_type": "stream",
     "text": [
      "2\n"
     ]
    }
   ],
   "source": [
    "def linear_search(nums, target):\n",
    "    for i, num in enumerate(nums):\n",
    "        if num == target:\n",
    "            return i\n",
    "    return -1  # Return -1 if the target element is not found\n",
    "\n",
    "# Example usage\n",
    "nums = [5, 3, 8, 2, 7, 4]\n",
    "target = 8\n",
    "print(linear_search(nums, target))  # Output: 2 (index of the target element)"
   ]
  },
  {
   "cell_type": "markdown",
   "id": "7626624c",
   "metadata": {},
   "source": [
    "#### Problem 28 Calculate the factorial of a given number."
   ]
  },
  {
   "cell_type": "code",
   "execution_count": 35,
   "id": "57749dc5",
   "metadata": {
    "ExecuteTime": {
     "end_time": "2024-07-06T15:05:33.896933Z",
     "start_time": "2024-07-06T15:05:33.882725Z"
    }
   },
   "outputs": [
    {
     "name": "stdout",
     "output_type": "stream",
     "text": [
      "120\n"
     ]
    }
   ],
   "source": [
    "def factorial_recursive(n):\n",
    "    if n == 0:\n",
    "        return 1\n",
    "    return n * factorial_recursive(n - 1)\n",
    "\n",
    "# Example usage\n",
    "n = 5\n",
    "print(factorial_recursive(n))  # Output: 120"
   ]
  },
  {
   "cell_type": "markdown",
   "id": "694c7148",
   "metadata": {},
   "source": [
    "#### Problem 29: Check if a given number is a prime number."
   ]
  },
  {
   "cell_type": "code",
   "execution_count": 36,
   "id": "f96d0b17",
   "metadata": {
    "ExecuteTime": {
     "end_time": "2024-07-06T15:05:33.912905Z",
     "start_time": "2024-07-06T15:05:33.899349Z"
    }
   },
   "outputs": [
    {
     "name": "stdout",
     "output_type": "stream",
     "text": [
      "True\n"
     ]
    }
   ],
   "source": [
    "import math\n",
    "\n",
    "def is_prime(number):\n",
    "    if number <= 1:\n",
    "        return False\n",
    "    if number == 2:\n",
    "        return True\n",
    "    if number % 2 == 0:\n",
    "        return False\n",
    "    \n",
    "    # Iterate from 3 to the square root of the number with a step of 2\n",
    "    for i in range(3, int(math.sqrt(number)) + 1, 2):\n",
    "        if number % i == 0:\n",
    "            return False\n",
    "    return True\n",
    "\n",
    "# Example usage\n",
    "number = 7\n",
    "print(is_prime(number))  # Output: True"
   ]
  },
  {
   "cell_type": "markdown",
   "id": "5722293c",
   "metadata": {},
   "source": [
    "#### Problem 30: Generate the Fibonacci series up to a given number n."
   ]
  },
  {
   "cell_type": "code",
   "execution_count": 37,
   "id": "37a34c75",
   "metadata": {
    "ExecuteTime": {
     "end_time": "2024-07-06T15:05:33.928416Z",
     "start_time": "2024-07-06T15:05:33.914896Z"
    }
   },
   "outputs": [
    {
     "name": "stdout",
     "output_type": "stream",
     "text": [
      "[0, 1, 1, 2, 3, 5, 8]\n"
     ]
    }
   ],
   "source": [
    "def generate_fibonacci_iterative(n):\n",
    "    fib_series = []\n",
    "    a, b = 0, 1\n",
    "    while a <= n:\n",
    "        fib_series.append(a)\n",
    "        a, b = b, a + b\n",
    "    return fib_series\n",
    "\n",
    "# Example usage\n",
    "n = 8\n",
    "print(generate_fibonacci_iterative(n))  # Output: [0, 1, 1, 2, 3, 5, 8]\n"
   ]
  },
  {
   "cell_type": "markdown",
   "id": "707e30a6",
   "metadata": {},
   "source": [
    "#### Problem 31: Calculate the power of a number using recursion."
   ]
  },
  {
   "cell_type": "code",
   "execution_count": 38,
   "id": "90e852ca",
   "metadata": {
    "ExecuteTime": {
     "end_time": "2024-07-06T15:05:33.944488Z",
     "start_time": "2024-07-06T15:05:33.929410Z"
    }
   },
   "outputs": [
    {
     "name": "stdout",
     "output_type": "stream",
     "text": [
      "81\n"
     ]
    }
   ],
   "source": [
    "def power(base, exponent):\n",
    "    # Base case: if exponent is 0, return 1\n",
    "    if exponent == 0:\n",
    "        return 1\n",
    "    \n",
    "    # Recursive case: multiply base with the result of power(base, exponent - 1)\n",
    "    return base * power(base, exponent - 1)\n",
    "\n",
    "# Example usage\n",
    "base = 3\n",
    "exponent = 4\n",
    "print(power(base, exponent))  # Output: 81 (3^4)"
   ]
  },
  {
   "cell_type": "markdown",
   "id": "7aee3fd8",
   "metadata": {
    "ExecuteTime": {
     "end_time": "2024-07-06T14:54:51.125618Z",
     "start_time": "2024-07-06T14:54:51.108522Z"
    }
   },
   "source": [
    "#### Problem 32: Reverse a given string."
   ]
  },
  {
   "cell_type": "code",
   "execution_count": 39,
   "id": "2e03d4de",
   "metadata": {
    "ExecuteTime": {
     "end_time": "2024-07-06T15:05:33.960529Z",
     "start_time": "2024-07-06T15:05:33.946486Z"
    }
   },
   "outputs": [
    {
     "name": "stdout",
     "output_type": "stream",
     "text": [
      "olleh\n"
     ]
    }
   ],
   "source": [
    "def reverse_string(s):\n",
    "    return s[::-1]\n",
    "\n",
    "# Example usage\n",
    "s = \"hello\"\n",
    "print(reverse_string(s))  # Output: \"olleh\""
   ]
  }
 ],
 "metadata": {
  "kernelspec": {
   "display_name": "Python 3 (ipykernel)",
   "language": "python",
   "name": "python3"
  },
  "language_info": {
   "codemirror_mode": {
    "name": "ipython",
    "version": 3
   },
   "file_extension": ".py",
   "mimetype": "text/x-python",
   "name": "python",
   "nbconvert_exporter": "python",
   "pygments_lexer": "ipython3",
   "version": "3.9.13"
  },
  "varInspector": {
   "cols": {
    "lenName": 16,
    "lenType": 16,
    "lenVar": 40
   },
   "kernels_config": {
    "python": {
     "delete_cmd_postfix": "",
     "delete_cmd_prefix": "del ",
     "library": "var_list.py",
     "varRefreshCmd": "print(var_dic_list())"
    },
    "r": {
     "delete_cmd_postfix": ") ",
     "delete_cmd_prefix": "rm(",
     "library": "var_list.r",
     "varRefreshCmd": "cat(var_dic_list()) "
    }
   },
   "types_to_exclude": [
    "module",
    "function",
    "builtin_function_or_method",
    "instance",
    "_Feature"
   ],
   "window_display": false
  }
 },
 "nbformat": 4,
 "nbformat_minor": 5
}
