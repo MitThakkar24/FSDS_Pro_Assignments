{
 "cells": [
  {
   "cell_type": "markdown",
   "id": "d0cf9781",
   "metadata": {},
   "source": [
    "#### 1. What is a Python library? Why do we use Python libraries?"
   ]
  },
  {
   "cell_type": "markdown",
   "id": "261aee92",
   "metadata": {},
   "source": [
    "- A python libary is a collection of pre-written code that can be used to perfrom various tasks, ranging from simple operations to complex algorithms and processes. \n",
    "- kLibraries consist of modules, whcih are files containing python code that can be importted and utilized in python programs"
   ]
  },
  {
   "cell_type": "markdown",
   "id": "66073e91",
   "metadata": {},
   "source": [
    "Use Cases\n",
    "\n",
    "1) Code Reusability \n",
    "-> Libraries provide reusable code, whcih means we don't have to write code from scratch\n",
    "-> That helps in speeding up the development process\n",
    "\n",
    "2) Efficiency \n",
    "-> Using libraries allows you to implement complex functionalities without needing to understanding underlying code, making development faster and more efficient \n",
    "\n",
    "3) Standardization \n",
    "-> Libraries are often well trusted and standardized, reducing the likelihood of bugs and errors in code\n",
    "\n",
    "4) Wide Functionality \n",
    "-> Python Libraries offer a wide range of functionalities, from data manipulation, machine learning, web development, to scientific computing. "
   ]
  },
  {
   "cell_type": "markdown",
   "id": "74c8774d",
   "metadata": {},
   "source": [
    "#### 2. What is the Difference between Numpy array and List?"
   ]
  },
  {
   "cell_type": "markdown",
   "id": "c990bcb3",
   "metadata": {},
   "source": [
    "1) Data Type Consistency\n",
    "-> Numpy array: Homogeneous, meaning all elements in a numpy array must be of the same data type\n",
    "-> Python List: Haterogeneous, meaning elements can be of different data types\n",
    "\n",
    "2) Performance \n",
    "-> Numpy array: Much faster in operations due to its underlying C implementation and contiguous memory allocation \n",
    "-> Python List: Slower in performance because of the flexibility to hold different data types and the overhead of python's dynamic typing \n",
    "\n",
    "3) Memory Efficiency \n",
    "-> Numpy array: More memory efficient since it store data in a contiguous block of memory and the element are of the same type \n",
    "-> Python List: less memory efficient because it stores reference to the actual objects, which can be of different types\n",
    "\n",
    "4) Mathematical Operations:\n",
    "-> Numpy array supports element wise operations which means we can perform operations on the entire array without looping\n",
    "-> Python list requires looping for element wise operations, whcih can be slower and more difficult to write \n",
    "\n",
    "5) Functionality\n",
    "-> Numpy array comes rich set of mathematical functions specifically designed for array operations \n",
    "-> python list lack built-in support for advanced mathematical operations. \n",
    "\n",
    "6) Resizing \n",
    "-> numpy array fixed size after creation, resizing requires creating a new array and copying the data \n",
    "-> python list is dynamic in size, allowing for easy appending, insertion and removal of elements \n",
    "\n",
    "7) Indexing and Slicing \n",
    "-> Numpy array supports advanced slicing and multi-dimensional indexing, making it ideal for woking with multi-dimensional data \n",
    "-> Python list supports basic slicing and indexing but it is less powerful compared to numpy array when dealing with multi-dimensional data."
   ]
  },
  {
   "cell_type": "markdown",
   "id": "3bc9b187",
   "metadata": {},
   "source": [
    "#### 3. Find the shape, size and dimension of the following array?\n",
    "\n",
    "- [[1, 2, 3, 4]\n",
    "- [5, 6, 7, 8],\n",
    "- [9, 10, 11, 12]]"
   ]
  },
  {
   "cell_type": "code",
   "execution_count": 1,
   "id": "6da7271e",
   "metadata": {
    "ExecuteTime": {
     "end_time": "2024-08-11T17:57:03.288666Z",
     "start_time": "2024-08-11T17:57:03.122658Z"
    }
   },
   "outputs": [
    {
     "name": "stdout",
     "output_type": "stream",
     "text": [
      "Dimension of Array is  2\n"
     ]
    }
   ],
   "source": [
    "import numpy as np\n",
    "\n",
    "array = np.array([[1, 2, 3, 4],\n",
    "                  [5, 6, 7, 8],\n",
    "                  [9, 10, 11, 12]])\n",
    "\n",
    "dimension = array.ndim\n",
    "print(\"Dimension of Array is \",dimension)"
   ]
  },
  {
   "cell_type": "markdown",
   "id": "07993bcb",
   "metadata": {
    "ExecuteTime": {
     "end_time": "2024-08-11T16:49:41.606266Z",
     "start_time": "2024-08-11T16:49:41.593269Z"
    }
   },
   "source": [
    "#### 4. Write python code to access the first row of the following array?"
   ]
  },
  {
   "cell_type": "code",
   "execution_count": 2,
   "id": "31c403cf",
   "metadata": {
    "ExecuteTime": {
     "end_time": "2024-08-11T17:57:03.304664Z",
     "start_time": "2024-08-11T17:57:03.290659Z"
    }
   },
   "outputs": [
    {
     "data": {
      "text/plain": [
       "array([1, 2, 3, 4])"
      ]
     },
     "execution_count": 2,
     "metadata": {},
     "output_type": "execute_result"
    }
   ],
   "source": [
    "array = np.array([[1, 2, 3, 4],\n",
    "                  [5, 6, 7, 8],\n",
    "                  [9, 10, 11, 12]])\n",
    "\n",
    "array[0]"
   ]
  },
  {
   "cell_type": "markdown",
   "id": "04d90a60",
   "metadata": {},
   "source": [
    "#### 5. How do you access the element at the third row and fourth column from the given numpy array?"
   ]
  },
  {
   "cell_type": "code",
   "execution_count": 3,
   "id": "5dc51d8e",
   "metadata": {
    "ExecuteTime": {
     "end_time": "2024-08-11T17:57:03.320670Z",
     "start_time": "2024-08-11T17:57:03.306661Z"
    }
   },
   "outputs": [
    {
     "data": {
      "text/plain": [
       "12"
      ]
     },
     "execution_count": 3,
     "metadata": {},
     "output_type": "execute_result"
    }
   ],
   "source": [
    "array = np.array([[1, 2, 3, 4],\n",
    "                  [5, 6, 7, 8],\n",
    "                  [9, 10, 11, 12]])\n",
    "\n",
    "array[2][3]"
   ]
  },
  {
   "cell_type": "markdown",
   "id": "b5b83169",
   "metadata": {},
   "source": [
    "#### 6. Write code to extract all odd indexed elements from the given numpy array?"
   ]
  },
  {
   "cell_type": "code",
   "execution_count": 4,
   "id": "5a045608",
   "metadata": {
    "ExecuteTime": {
     "end_time": "2024-08-11T17:57:03.336658Z",
     "start_time": "2024-08-11T17:57:03.323664Z"
    }
   },
   "outputs": [
    {
     "name": "stdout",
     "output_type": "stream",
     "text": [
      "Odd-indexed elements:\n",
      "[[6 8]]\n"
     ]
    }
   ],
   "source": [
    "array = np.array([[1, 2, 3, 4],\n",
    "                  [5, 6, 7, 8],\n",
    "                  [9, 10, 11, 12]])\n",
    "\n",
    "odd_index_elements = array[1::2, 1::2]\n",
    "\n",
    "print(\"Odd-indexed elements:\")\n",
    "print(odd_index_elements)\n"
   ]
  },
  {
   "cell_type": "markdown",
   "id": "eb04ea6a",
   "metadata": {
    "ExecuteTime": {
     "end_time": "2024-08-11T16:57:05.070180Z",
     "start_time": "2024-08-11T16:57:05.060184Z"
    }
   },
   "source": [
    "#### 7. How can you generate a random 3x3 matrix with values between 0 and 1?"
   ]
  },
  {
   "cell_type": "code",
   "execution_count": 5,
   "id": "dc2ef448",
   "metadata": {
    "ExecuteTime": {
     "end_time": "2024-08-11T17:57:03.352669Z",
     "start_time": "2024-08-11T17:57:03.337675Z"
    }
   },
   "outputs": [
    {
     "data": {
      "text/plain": [
       "array([[6.33259871e-01, 1.92973610e-01, 8.56414323e-01],\n",
       "       [9.62171403e-01, 7.75997902e-04, 4.70577071e-02],\n",
       "       [1.89110706e-01, 9.22312334e-02, 3.95384080e-01]])"
      ]
     },
     "execution_count": 5,
     "metadata": {},
     "output_type": "execute_result"
    }
   ],
   "source": [
    "import numpy as np \n",
    "\n",
    "random_matrix = np.random.rand(3,3)\n",
    "random_matrix"
   ]
  },
  {
   "cell_type": "markdown",
   "id": "b21c6394",
   "metadata": {},
   "source": [
    "##### 8. Describe the difference between np.random.rand and np.random.randn?"
   ]
  },
  {
   "cell_type": "markdown",
   "id": "7dda280c",
   "metadata": {},
   "source": [
    "1) Distribution:\n",
    "- np.random.rand generates random numbers from a uniform distribution over the interval [0,1). This means each number is equally likely to be anywhere between 0 and 1 \n",
    "- np.random.randn generates random numbers from a standard normal distribution with a mean of 0 and a standard deviation of 1. This means numbers are spread around the mean, with values potentially being negative of positive \n",
    "\n",
    "2) Range of values \n",
    "- np.random.rand produces value in the range [0,1), meaning number are between 0 inclusive and 1 exclusive.\n",
    "- np.random.randn produces values that can range from negative to positive infinity centered around 0\n",
    "\n",
    "3) Function Signature;\n",
    "- np.random.rand creates an array of the specified shape with values from a uniform distribution \n",
    "- np.random.randn creates an array of the specified shape with values from a standard normal distribution \n",
    "\n",
    "4) Use case:\n",
    "- np.random.rand ideal for scenarios requiring uniformly distributed random numbers, such as initializing random weights or generating random probabilities \n",
    "- np.random.randn suitable for scenarios requiring normally distributed data such as simulations and statistical modelling"
   ]
  },
  {
   "cell_type": "markdown",
   "id": "c0d10fba",
   "metadata": {
    "ExecuteTime": {
     "end_time": "2024-08-11T17:08:58.188800Z",
     "start_time": "2024-08-11T17:08:58.178799Z"
    }
   },
   "source": [
    "#### 9. Write code to increase the dimension of the following array? "
   ]
  },
  {
   "cell_type": "code",
   "execution_count": 6,
   "id": "e5ad4d80",
   "metadata": {
    "ExecuteTime": {
     "end_time": "2024-08-11T17:57:03.368259Z",
     "start_time": "2024-08-11T17:57:03.354671Z"
    }
   },
   "outputs": [],
   "source": [
    "import numpy as np\n",
    "\n",
    "array = np.array([[1, 2, 3, 4],\n",
    "                  [5, 6, 7, 8],\n",
    "                  [9, 10, 11, 12]])\n",
    "expanded_array = np.expand_dims(array, axis=0) "
   ]
  },
  {
   "cell_type": "code",
   "execution_count": 7,
   "id": "8bdc46d1",
   "metadata": {
    "ExecuteTime": {
     "end_time": "2024-08-11T17:57:03.384264Z",
     "start_time": "2024-08-11T17:57:03.370263Z"
    }
   },
   "outputs": [
    {
     "data": {
      "text/plain": [
       "(3, 4)"
      ]
     },
     "execution_count": 7,
     "metadata": {},
     "output_type": "execute_result"
    }
   ],
   "source": [
    "array.shape"
   ]
  },
  {
   "cell_type": "code",
   "execution_count": 8,
   "id": "d1bf8917",
   "metadata": {
    "ExecuteTime": {
     "end_time": "2024-08-11T17:57:03.400264Z",
     "start_time": "2024-08-11T17:57:03.387252Z"
    }
   },
   "outputs": [
    {
     "data": {
      "text/plain": [
       "(1, 3, 4)"
      ]
     },
     "execution_count": 8,
     "metadata": {},
     "output_type": "execute_result"
    }
   ],
   "source": [
    "expanded_array.shape"
   ]
  },
  {
   "cell_type": "markdown",
   "id": "94f009ad",
   "metadata": {
    "ExecuteTime": {
     "end_time": "2024-08-11T17:11:11.357191Z",
     "start_time": "2024-08-11T17:11:11.343187Z"
    }
   },
   "source": [
    "#### 10. How to transpose the following array in NumPy?"
   ]
  },
  {
   "cell_type": "code",
   "execution_count": 9,
   "id": "adc1832c",
   "metadata": {
    "ExecuteTime": {
     "end_time": "2024-08-11T17:57:03.415264Z",
     "start_time": "2024-08-11T17:57:03.402252Z"
    }
   },
   "outputs": [
    {
     "data": {
      "text/plain": [
       "array([[ 1,  5,  9],\n",
       "       [ 2,  6, 10],\n",
       "       [ 3,  7, 11],\n",
       "       [ 4,  8, 12]])"
      ]
     },
     "execution_count": 9,
     "metadata": {},
     "output_type": "execute_result"
    }
   ],
   "source": [
    "import numpy as np\n",
    "\n",
    "array = np.array([[1, 2, 3, 4],\n",
    "                  [5, 6, 7, 8],\n",
    "                  [9, 10, 11, 12]])\n",
    "array.T"
   ]
  },
  {
   "cell_type": "code",
   "execution_count": 10,
   "id": "c48fbca9",
   "metadata": {
    "ExecuteTime": {
     "end_time": "2024-08-11T17:57:03.431267Z",
     "start_time": "2024-08-11T17:57:03.418256Z"
    }
   },
   "outputs": [
    {
     "data": {
      "text/plain": [
       "array([[ 1,  5,  9],\n",
       "       [ 2,  6, 10],\n",
       "       [ 3,  7, 11],\n",
       "       [ 4,  8, 12]])"
      ]
     },
     "execution_count": 10,
     "metadata": {},
     "output_type": "execute_result"
    }
   ],
   "source": [
    "array.transpose()"
   ]
  },
  {
   "cell_type": "markdown",
   "id": "e72fd320",
   "metadata": {},
   "source": [
    "#### 11. Consider the following matrix:\n",
    "#### Matrix A: [[1, 2, 3, 4] [5, 6, 7, 8],[9, 10, 11, 12]]\n",
    "#### Matrix B: [[1, 2, 3, 4] [5, 6, 7, 8],[9, 10, 11, 12]]"
   ]
  },
  {
   "cell_type": "code",
   "execution_count": 11,
   "id": "537b1896",
   "metadata": {
    "ExecuteTime": {
     "end_time": "2024-08-11T17:57:03.447425Z",
     "start_time": "2024-08-11T17:57:03.433254Z"
    }
   },
   "outputs": [],
   "source": [
    "A = np.array([[1, 2, 3, 4],\n",
    "                  [5, 6, 7, 8],\n",
    "                  [9, 10, 11, 12]])\n",
    "\n",
    "B = np.array([[1, 2, 3, 4],\n",
    "                  [5, 6, 7, 8],\n",
    "                  [9, 10, 11, 12]])\n"
   ]
  },
  {
   "cell_type": "code",
   "execution_count": 12,
   "id": "8f0a54b9",
   "metadata": {
    "ExecuteTime": {
     "end_time": "2024-08-11T17:57:03.463330Z",
     "start_time": "2024-08-11T17:57:03.449261Z"
    }
   },
   "outputs": [],
   "source": [
    "# 1) index wise multiplication"
   ]
  },
  {
   "cell_type": "code",
   "execution_count": 13,
   "id": "2cc88ca4",
   "metadata": {
    "ExecuteTime": {
     "end_time": "2024-08-11T17:57:03.479315Z",
     "start_time": "2024-08-11T17:57:03.466326Z"
    }
   },
   "outputs": [
    {
     "data": {
      "text/plain": [
       "array([[  1,   4,   9,  16],\n",
       "       [ 25,  36,  49,  64],\n",
       "       [ 81, 100, 121, 144]])"
      ]
     },
     "execution_count": 13,
     "metadata": {},
     "output_type": "execute_result"
    }
   ],
   "source": [
    "A*B"
   ]
  },
  {
   "cell_type": "code",
   "execution_count": 14,
   "id": "0a9516b5",
   "metadata": {
    "ExecuteTime": {
     "end_time": "2024-08-11T17:57:03.495325Z",
     "start_time": "2024-08-11T17:57:03.481321Z"
    }
   },
   "outputs": [
    {
     "data": {
      "text/plain": [
       "array([[ 30,  70, 110],\n",
       "       [ 70, 174, 278],\n",
       "       [110, 278, 446]])"
      ]
     },
     "execution_count": 14,
     "metadata": {},
     "output_type": "execute_result"
    }
   ],
   "source": [
    "# 2) Matix multiplication\n",
    "np.dot(A,B.T)"
   ]
  },
  {
   "cell_type": "code",
   "execution_count": 15,
   "id": "e4ea78aa",
   "metadata": {
    "ExecuteTime": {
     "end_time": "2024-08-11T17:57:03.511308Z",
     "start_time": "2024-08-11T17:57:03.497313Z"
    }
   },
   "outputs": [
    {
     "data": {
      "text/plain": [
       "array([[ 2,  4,  6,  8],\n",
       "       [10, 12, 14, 16],\n",
       "       [18, 20, 22, 24]])"
      ]
     },
     "execution_count": 15,
     "metadata": {},
     "output_type": "execute_result"
    }
   ],
   "source": [
    "# 3) Add both the matrics \n",
    "A+B"
   ]
  },
  {
   "cell_type": "code",
   "execution_count": 16,
   "id": "c75a5c6b",
   "metadata": {
    "ExecuteTime": {
     "end_time": "2024-08-11T17:57:03.526311Z",
     "start_time": "2024-08-11T17:57:03.512312Z"
    }
   },
   "outputs": [
    {
     "data": {
      "text/plain": [
       "array([[0, 0, 0, 0],\n",
       "       [0, 0, 0, 0],\n",
       "       [0, 0, 0, 0]])"
      ]
     },
     "execution_count": 16,
     "metadata": {},
     "output_type": "execute_result"
    }
   ],
   "source": [
    "# 4) Subtract matrix B from A \n",
    "B-A"
   ]
  },
  {
   "cell_type": "code",
   "execution_count": 17,
   "id": "f0f4a91c",
   "metadata": {
    "ExecuteTime": {
     "end_time": "2024-08-11T17:57:03.542311Z",
     "start_time": "2024-08-11T17:57:03.528321Z"
    }
   },
   "outputs": [
    {
     "data": {
      "text/plain": [
       "array([[1., 1., 1., 1.],\n",
       "       [1., 1., 1., 1.],\n",
       "       [1., 1., 1., 1.]])"
      ]
     },
     "execution_count": 17,
     "metadata": {},
     "output_type": "execute_result"
    }
   ],
   "source": [
    "# Divide Matrix B by A\n",
    "B/A"
   ]
  },
  {
   "cell_type": "markdown",
   "id": "ec3547df",
   "metadata": {},
   "source": [
    "#### 12. Which function in Numpy can be used to swap the byte order of an array?"
   ]
  },
  {
   "cell_type": "markdown",
   "id": "2001ef3f",
   "metadata": {},
   "source": [
    "In NumPy, you can use the byteswap() function to swap the byte order (endianness) of an array. This is useful when working with data that has a different byte order from the one expected by your system."
   ]
  },
  {
   "cell_type": "markdown",
   "id": "56cac87b",
   "metadata": {},
   "source": [
    "Swaps the byte order of the array elements. This function is often used when dealing with binary data files that may have been written in a different byte order."
   ]
  },
  {
   "cell_type": "code",
   "execution_count": 18,
   "id": "7794b027",
   "metadata": {
    "ExecuteTime": {
     "end_time": "2024-08-11T17:57:03.558326Z",
     "start_time": "2024-08-11T17:57:03.544323Z"
    }
   },
   "outputs": [
    {
     "name": "stdout",
     "output_type": "stream",
     "text": [
      "Original array:\n",
      "[  1 256   0]\n",
      "Original array dtype: int16\n",
      "Array after byteswap:\n",
      "[256   1   0]\n",
      "Array dtype after byteswap: int16\n"
     ]
    }
   ],
   "source": [
    "import numpy as np\n",
    "\n",
    "array = np.array([1, 256, 65536], dtype=np.int16)  # Using 16-bit integers\n",
    "\n",
    "print(\"Original array:\")\n",
    "print(array)\n",
    "print(\"Original array dtype:\", array.dtype)\n",
    "\n",
    "swapped_array = array.byteswap()\n",
    "\n",
    "print(\"Array after byteswap:\")\n",
    "print(swapped_array)\n",
    "print(\"Array dtype after byteswap:\", swapped_array.dtype)\n"
   ]
  },
  {
   "cell_type": "markdown",
   "id": "cbe9ebdb",
   "metadata": {},
   "source": [
    "#### 13. What is the significance of the np.linalg.inv function?"
   ]
  },
  {
   "cell_type": "markdown",
   "id": "2713ee8a",
   "metadata": {},
   "source": [
    "The np.linalg.inv function in NumPy is used to compute the inverse of a square matrix. Here’s a breakdown of its significance and usage:"
   ]
  },
  {
   "cell_type": "markdown",
   "id": "d837af9d",
   "metadata": {},
   "source": [
    "Solving linear Systems \n",
    "- To solve a system of linear equations represented as A*x = b, we can find the solution vector x by computing x=A-1*b. This means we needfirst compute the inverse of matrix A and then multiply it by the vector b.\n",
    "\n",
    "Matrix Algebra \n",
    "- matrix inversion is used in various algebric operations and transformations. such as optimization and matirx decompositions.\n"
   ]
  },
  {
   "cell_type": "code",
   "execution_count": 19,
   "id": "fe13f29c",
   "metadata": {
    "ExecuteTime": {
     "end_time": "2024-08-11T17:57:03.574325Z",
     "start_time": "2024-08-11T17:57:03.560323Z"
    }
   },
   "outputs": [
    {
     "name": "stdout",
     "output_type": "stream",
     "text": [
      "Original matrix A:\n",
      "[[1 2]\n",
      " [3 4]]\n",
      "Inverse of matrix A:\n",
      "[[-2.   1. ]\n",
      " [ 1.5 -0.5]]\n",
      "Product of A and its inverse (should be identity matrix):\n",
      "[[1.0000000e+00 0.0000000e+00]\n",
      " [8.8817842e-16 1.0000000e+00]]\n"
     ]
    }
   ],
   "source": [
    "import numpy as np\n",
    "\n",
    "# Define a square matrix\n",
    "A = np.array([[1, 2],\n",
    "              [3, 4]])\n",
    "\n",
    "# Compute the inverse of the matrix\n",
    "A_inv = np.linalg.inv(A)\n",
    "\n",
    "print(\"Original matrix A:\")\n",
    "print(A)\n",
    "\n",
    "print(\"Inverse of matrix A:\")\n",
    "print(A_inv)\n",
    "\n",
    "identity_matrix = np.dot(A, A_inv)\n",
    "print(\"Product of A and its inverse (should be identity matrix):\")\n",
    "print(identity_matrix)\n"
   ]
  },
  {
   "cell_type": "markdown",
   "id": "6833ac9a",
   "metadata": {},
   "source": [
    "#### 14. What does the np.reshape function do, and how is it used?"
   ]
  },
  {
   "cell_type": "markdown",
   "id": "1af37f2e",
   "metadata": {},
   "source": [
    "- The np.reshape function in NumPy is used to chaneg the shape of an existing array without changing  its data. This function allows you to rearrange the dimensions the dimensions of the array to fit a new shape while preserving the total nimber of elements \n",
    "\n",
    "What np.reshape does \n",
    "- Changes Shape: np.resha[e modifies the shape of the array to a new specified shape \n",
    "- Preserves Data: The data in the array remains the same, only the arrangement of elements is altered \n",
    "- Must match size: the new shape must have the same number of elements as the original shape"
   ]
  },
  {
   "cell_type": "code",
   "execution_count": 20,
   "id": "49b5e13b",
   "metadata": {
    "ExecuteTime": {
     "end_time": "2024-08-11T17:57:03.590313Z",
     "start_time": "2024-08-11T17:57:03.577313Z"
    }
   },
   "outputs": [
    {
     "name": "stdout",
     "output_type": "stream",
     "text": [
      "initial array:\n",
      "[ 0  1  2  3  4  5  6  7  8  9 10 11]\n",
      "Reshaped array (2x?):\n",
      "[[ 0  1  2  3  4  5]\n",
      " [ 6  7  8  9 10 11]]\n"
     ]
    }
   ],
   "source": [
    "import numpy as np\n",
    "array = np.arange(12) \n",
    "\n",
    "reshaped_array = np.reshape(array, (2, -1))  # The second dimension is automatically determined\n",
    "print(\"initial array:\")\n",
    "print(array)\n",
    "print(\"Reshaped array (2x?):\")\n",
    "print(reshaped_array)"
   ]
  },
  {
   "cell_type": "markdown",
   "id": "92544381",
   "metadata": {},
   "source": [
    "#### 15. What is broadcasting in Numpy?"
   ]
  },
  {
   "cell_type": "markdown",
   "id": "b166bf5f",
   "metadata": {},
   "source": [
    "- Broadcasting in NumpPy is a powerful feature that allows you to perform operations on array of different shape in a way that is both different shapes in a way that is both efficeint and intuitive\n",
    "- It automatically expands the smaler array to match the shape of the larger array so that element-wise operations can be performed\n",
    "\n",
    "#### Key Concepts of broadcasting \n",
    "\n",
    "1) Automatic Expansion \n",
    "- Broadcasting enables operations between arrays with different shapes by automatically expanding the dimensions of the smaller array to match the larger one \n",
    "\n",
    "2) Dimension Compability \n",
    "- For two arrays to be broadcast together, their shapes must be compaitabl. Specifically, they should meet the following conditions \n",
    "- When comparing dimensions or the arrays, they must either be the  same or one of them must be 1. if these conditions are not met, broadcasting will not occur, and an error will be raised.\n",
    "\n",
    "3) Efficiency:\n",
    "- Broadcasting is performed without creating unnecessary copies of data, making it both memory and computationally efficient"
   ]
  },
  {
   "cell_type": "code",
   "execution_count": 21,
   "id": "71285d8e",
   "metadata": {
    "ExecuteTime": {
     "end_time": "2024-08-11T17:57:03.605322Z",
     "start_time": "2024-08-11T17:57:03.592314Z"
    }
   },
   "outputs": [
    {
     "name": "stdout",
     "output_type": "stream",
     "text": [
      "Array A:\n",
      "[[ 1  2  3  4  5]\n",
      " [ 6  7  8  9 10]\n",
      " [11 12 13 14 15]]\n",
      "Array B:\n",
      "[10 20 30 40 50]\n",
      "Result of A + B (broadcasting applied):\n",
      "[[11 22 33 44 55]\n",
      " [16 27 38 49 60]\n",
      " [21 32 43 54 65]]\n"
     ]
    }
   ],
   "source": [
    "import numpy as np\n",
    "\n",
    "# Define two arrays\n",
    "A = np.array([[1, 2, 3, 4, 5],\n",
    "              [6, 7, 8, 9, 10],\n",
    "              [11, 12, 13, 14, 15]])\n",
    "\n",
    "B = np.array([10, 20, 30, 40, 50])\n",
    "\n",
    "# Add B to each row of A\n",
    "result = A + B\n",
    "\n",
    "print(\"Array A:\")\n",
    "print(A)\n",
    "\n",
    "print(\"Array B:\")\n",
    "print(B)\n",
    "\n",
    "print(\"Result of A + B (broadcasting applied):\")\n",
    "print(result)\n"
   ]
  }
 ],
 "metadata": {
  "kernelspec": {
   "display_name": "Python 3 (ipykernel)",
   "language": "python",
   "name": "python3"
  },
  "language_info": {
   "codemirror_mode": {
    "name": "ipython",
    "version": 3
   },
   "file_extension": ".py",
   "mimetype": "text/x-python",
   "name": "python",
   "nbconvert_exporter": "python",
   "pygments_lexer": "ipython3",
   "version": "3.9.13"
  },
  "varInspector": {
   "cols": {
    "lenName": 16,
    "lenType": 16,
    "lenVar": 40
   },
   "kernels_config": {
    "python": {
     "delete_cmd_postfix": "",
     "delete_cmd_prefix": "del ",
     "library": "var_list.py",
     "varRefreshCmd": "print(var_dic_list())"
    },
    "r": {
     "delete_cmd_postfix": ") ",
     "delete_cmd_prefix": "rm(",
     "library": "var_list.r",
     "varRefreshCmd": "cat(var_dic_list()) "
    }
   },
   "types_to_exclude": [
    "module",
    "function",
    "builtin_function_or_method",
    "instance",
    "_Feature"
   ],
   "window_display": false
  }
 },
 "nbformat": 4,
 "nbformat_minor": 5
}
