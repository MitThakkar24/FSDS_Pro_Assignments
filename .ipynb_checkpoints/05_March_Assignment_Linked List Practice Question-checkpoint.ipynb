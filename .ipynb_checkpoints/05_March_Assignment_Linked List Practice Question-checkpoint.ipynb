{
 "cells": [
  {
   "cell_type": "markdown",
   "id": "0a0e9d7c",
   "metadata": {},
   "source": [
    "#### 1) Define a Doubly linked List"
   ]
  },
  {
   "cell_type": "code",
   "execution_count": 2,
   "id": "f189567d",
   "metadata": {},
   "outputs": [],
   "source": [
    "class Node:\n",
    "    def __init__(self,data,next=None,prev=None):\n",
    "        self.__next = next \n",
    "        self.__prev = prev \n",
    "        self.__data = data\n",
    "    \n",
    "    \n",
    "    def getdata(self):\n",
    "        return self.__data\n",
    "    \n",
    "    def setdata(self,data):\n",
    "        self.__data = data\n",
    "    \n",
    "    \n",
    "    def getnext(self):\n",
    "        return self.__next\n",
    "    \n",
    "    def setnext(self,next):\n",
    "        self.__next = next\n",
    "        \n",
    "    def getprev(self):\n",
    "        return self.__prev\n",
    "    \n",
    "    def setprev(self,prev):\n",
    "        self.__prev = prev"
   ]
  },
  {
   "cell_type": "code",
   "execution_count": 2,
   "id": "43c9020a",
   "metadata": {},
   "outputs": [],
   "source": [
    "head = Node(1)\n",
    "node1 = Node(2)\n",
    "node2 = Node(3)\n",
    "node3 = Node(4)\n",
    "node4 = Node(5)\n",
    "\n",
    "head.setnext(node1)\n",
    "\n",
    "node1.setnext(node2)\n",
    "node1.setprev(head)\n",
    "\n",
    "node2.setnext(node3)\n",
    "node2.setprev(node1)\n",
    "\n",
    "node3.setnext(node4)\n",
    "node3.setprev(node2)\n",
    "\n",
    "node4.setprev(node3)"
   ]
  },
  {
   "cell_type": "code",
   "execution_count": 6,
   "id": "052a6dd6",
   "metadata": {},
   "outputs": [
    {
     "name": "stdout",
     "output_type": "stream",
     "text": [
      "1->2->3->4->5->\n"
     ]
    }
   ],
   "source": [
    "def traverse(head):\n",
    "    temp = head\n",
    "    while temp:\n",
    "        print(temp.getdata(),end=\"->\")\n",
    "        temp = temp.getnext()\n",
    "    print()\n",
    "    \n",
    "traverse(head)"
   ]
  },
  {
   "cell_type": "markdown",
   "id": "8a3b87f7",
   "metadata": {},
   "source": [
    "#### 2) Write a function to reverse a linked list in-place"
   ]
  },
  {
   "cell_type": "code",
   "execution_count": 3,
   "id": "5d599235",
   "metadata": {},
   "outputs": [],
   "source": [
    "class Node:\n",
    "    def __init__(self, data, next=None):\n",
    "        self.data = data\n",
    "        self.next = next\n",
    "\n",
    "def reverse_linked_list(head):\n",
    "    prev = None\n",
    "    current = head\n",
    "\n",
    "    while current is not None:\n",
    "        next_node = current.next  \n",
    "        current.next = prev      \n",
    "        prev = current            \n",
    "        current = next_node     \n",
    "\n",
    "    return prev \n"
   ]
  },
  {
   "cell_type": "code",
   "execution_count": 4,
   "id": "b4f922d9",
   "metadata": {},
   "outputs": [
    {
     "name": "stdout",
     "output_type": "stream",
     "text": [
      "Original List:\n",
      "1 -> 2 -> 3 -> None\n",
      "Reversed List:\n",
      "3 -> 2 -> 1 -> None\n"
     ]
    }
   ],
   "source": [
    "def print_list(head):\n",
    "    current = head\n",
    "    while current is not None:\n",
    "        print(current.data, end=\" -> \")\n",
    "        current = current.next\n",
    "    print(\"None\")\n",
    "\n",
    "head = Node(1, Node(2, Node(3)))\n",
    "\n",
    "print(\"Original List:\")\n",
    "print_list(head)\n",
    "\n",
    "reversed_head = reverse_linked_list(head)\n",
    "\n",
    "print(\"Reversed List:\")\n",
    "print_list(reversed_head)\n"
   ]
  },
  {
   "cell_type": "markdown",
   "id": "030a3163",
   "metadata": {},
   "source": [
    "#### 3) Detect cycle in a linked list"
   ]
  },
  {
   "cell_type": "code",
   "execution_count": 8,
   "id": "8bedf423",
   "metadata": {},
   "outputs": [],
   "source": [
    "def has_cycle(head):\n",
    "    if not head:\n",
    "        return False\n",
    "    \n",
    "    slow = head \n",
    "    fast = head \n",
    "    \n",
    "    while fast is not None and fast.next is not None:\n",
    "        slow = slow.next \n",
    "        fast = fast.next.next\n",
    "        \n",
    "        if slow == fast:\n",
    "            return True\n",
    "        \n",
    "    return False"
   ]
  },
  {
   "cell_type": "code",
   "execution_count": 9,
   "id": "f6907e08",
   "metadata": {
    "scrolled": true
   },
   "outputs": [
    {
     "name": "stdout",
     "output_type": "stream",
     "text": [
      "True\n"
     ]
    }
   ],
   "source": [
    "# Create a cycle linked list: 1 -> 2 -> 3 -> 4 -> 2 (cycle at 2)\n",
    "head = Node(1)\n",
    "second = Node(2)\n",
    "third = Node(3)\n",
    "fourth = Node(4)\n",
    "head.next = second\n",
    "second.next = third\n",
    "third.next = fourth\n",
    "fourth.next = second  # Creates the cycle\n",
    "\n",
    "# Detect cycle\n",
    "print(has_cycle(head))  # Output: True\n"
   ]
  },
  {
   "cell_type": "code",
   "execution_count": 10,
   "id": "3a1d3a7e",
   "metadata": {},
   "outputs": [
    {
     "name": "stdout",
     "output_type": "stream",
     "text": [
      "False\n"
     ]
    }
   ],
   "source": [
    "# Create a non-cyclic linked list: 1 -> 2 -> 3 -> 4 -> None\n",
    "head = Node(1, Node(2, Node(3, Node(4))))\n",
    "\n",
    "# Detect cycle\n",
    "print(has_cycle(head))  # Output: False"
   ]
  },
  {
   "cell_type": "markdown",
   "id": "c484beba",
   "metadata": {},
   "source": [
    "#### 4) Merge two sorted linked list into one\n",
    "- 1->3->5->6->null and 2->4->6->8->null should be merged to make\n",
    "\n",
    "- 1->2->3->4->5->6->7->8\n"
   ]
  },
  {
   "cell_type": "code",
   "execution_count": 1,
   "id": "35f5dedf",
   "metadata": {},
   "outputs": [],
   "source": [
    "class ListNode:\n",
    "    def __init__(self,value=0,next=None):\n",
    "        self.value = value\n",
    "        self.next = next\n",
    "    \n",
    "def mergeTwoList(l1,l2):\n",
    "    dummy = ListNode()\n",
    "    tail = dummy\n",
    "    \n",
    "    while l1 and l2:\n",
    "        if l1.value<l2.value:\n",
    "            tail.next = l1\n",
    "            l1 = l1.next\n",
    "        else:\n",
    "            tail.next = l2\n",
    "            l2 = l2.next\n",
    "        tail = tail.next\n",
    "    \n",
    "    if l1:\n",
    "        tail.next = l1\n",
    "    elif l2:\n",
    "        tail.next = l2\n",
    "    \n",
    "    return dummy.next\n",
    "\n",
    "def printlist(node):\n",
    "    while node:\n",
    "        print(node.value,end='->' if node.next else \"\")\n",
    "        node = node.next\n",
    "    print('null')"
   ]
  },
  {
   "cell_type": "code",
   "execution_count": 3,
   "id": "cafb5799",
   "metadata": {},
   "outputs": [
    {
     "name": "stdout",
     "output_type": "stream",
     "text": [
      "1->2->3->4->5->6->6->8null\n"
     ]
    }
   ],
   "source": [
    "l1 = ListNode(1, ListNode(3, ListNode(5, ListNode(6))))\n",
    "\n",
    "l2 = ListNode(2, ListNode(4, ListNode(6, ListNode(8))))\n",
    "\n",
    "merged_list = mergeTwoList(l1, l2)\n",
    "\n",
    "printlist(merged_list)"
   ]
  },
  {
   "cell_type": "markdown",
   "id": "e36ee3ef",
   "metadata": {},
   "source": [
    "##### 5) Write a function to remove nth node from the end in a linked list\n",
    "- 1->2->3->4->5->6, removing 2nd node from end will return 1->2->3->4->6"
   ]
  },
  {
   "cell_type": "code",
   "execution_count": 8,
   "id": "632b2c9b",
   "metadata": {},
   "outputs": [],
   "source": [
    "class ListNode:\n",
    "    def __init__(self,value=0,next=None):\n",
    "        self.value = value\n",
    "        self.next = next\n",
    "    \n",
    "def remove_nth_from_end(head,n):\n",
    "    dummy = ListNode(0)\n",
    "    dummy.next = head\n",
    "    \n",
    "    first = dummy \n",
    "    second = dummy \n",
    "    \n",
    "    for i in range(n+1):\n",
    "        first=first.next\n",
    "    \n",
    "    while first:\n",
    "        first = first.next\n",
    "        second = second.next\n",
    "        \n",
    "    second.next = second.next.next\n",
    "    \n",
    "    return dummy.next \n",
    "\n",
    "def print_linked_list(head):\n",
    "    current = head \n",
    "    while current:\n",
    "        print(current.value,end='->' if current.next else \"\")\n",
    "        current = current.next \n",
    "    print()\n",
    "        "
   ]
  },
  {
   "cell_type": "code",
   "execution_count": 9,
   "id": "36c286e2",
   "metadata": {},
   "outputs": [],
   "source": [
    "head = ListNode(1)\n",
    "head.next = ListNode(2)\n",
    "head.next.next = ListNode(3)\n",
    "head.next.next.next = ListNode(4)\n",
    "head.next.next.next.next = ListNode(5)\n",
    "head.next.next.next.next.next = ListNode(6)"
   ]
  },
  {
   "cell_type": "code",
   "execution_count": 12,
   "id": "df37cd0d",
   "metadata": {},
   "outputs": [
    {
     "name": "stdout",
     "output_type": "stream",
     "text": [
      "1->2->3->6\n",
      "1->2->6\n"
     ]
    }
   ],
   "source": [
    "# Original LL\n",
    "print_linked_list(head)\n",
    "\n",
    "# Remove the 2nd node from the end\n",
    "new_head = remove_nth_from_end(head, 2)\n",
    "\n",
    "# Print the modified linked list\n",
    "print_linked_list(new_head)"
   ]
  },
  {
   "cell_type": "markdown",
   "id": "7c7c5a18",
   "metadata": {},
   "source": [
    "#### 6) Remove duplicates from a sorted linked list\n",
    "- 1->2->3->3->4->4->4->5  should be changed to 1->2->3->4->5"
   ]
  },
  {
   "cell_type": "code",
   "execution_count": null,
   "id": "74e511ba",
   "metadata": {},
   "outputs": [],
   "source": []
  },
  {
   "cell_type": "markdown",
   "id": "1384c8af",
   "metadata": {},
   "source": [
    "#### 7) Find the intersection of the two linked lists\n",
    "- 1->2->3->4->8->6->9  5->1->6->7  , intersection 1->6"
   ]
  },
  {
   "cell_type": "code",
   "execution_count": null,
   "id": "bb09cfba",
   "metadata": {},
   "outputs": [],
   "source": []
  },
  {
   "cell_type": "markdown",
   "id": "59b27509",
   "metadata": {},
   "source": [
    "#### 8) Rotate a linked list by k positions to the right\n",
    "- 1->2->3->4->8->6->9 , after rotating for 2 times Cecomes , 3->4->8->6->9->1->2"
   ]
  },
  {
   "cell_type": "code",
   "execution_count": null,
   "id": "911dde12",
   "metadata": {},
   "outputs": [],
   "source": []
  },
  {
   "cell_type": "markdown",
   "id": "05d557cb",
   "metadata": {},
   "source": [
    "#### 9) Add Two Numbers Represented by Linked Lists:\n",
    "- Given two non-empty linked lists representing two non-negative integers, where the digits are stored in\n",
    "reverse order, add the two numCers and return it as a linked list."
   ]
  },
  {
   "cell_type": "code",
   "execution_count": null,
   "id": "a96c4773",
   "metadata": {},
   "outputs": [],
   "source": []
  },
  {
   "cell_type": "markdown",
   "id": "fd016c40",
   "metadata": {},
   "source": [
    "#### 10) Clone a Linked List with next and Random Pointer\n",
    "- Given a linked list of size N where each node has two links: one pointer points to the next node and the\n",
    "second pointer points to any node in the list. The task is to create a clone of this linked list in O(N) time. \n",
    "\n",
    "\n",
    "- Note: The pointer pointing to the next node is ‘next‘ pointer and the one pointing to an arCitrary node is\n",
    "called ‘arCit’ pointer as it can point to any arCitrary node in the linked list"
   ]
  },
  {
   "cell_type": "code",
   "execution_count": null,
   "id": "c850ac09",
   "metadata": {},
   "outputs": [],
   "source": []
  }
 ],
 "metadata": {
  "kernelspec": {
   "display_name": "Python 3 (ipykernel)",
   "language": "python",
   "name": "python3"
  },
  "language_info": {
   "codemirror_mode": {
    "name": "ipython",
    "version": 3
   },
   "file_extension": ".py",
   "mimetype": "text/x-python",
   "name": "python",
   "nbconvert_exporter": "python",
   "pygments_lexer": "ipython3",
   "version": "3.9.13"
  },
  "varInspector": {
   "cols": {
    "lenName": 16,
    "lenType": 16,
    "lenVar": 40
   },
   "kernels_config": {
    "python": {
     "delete_cmd_postfix": "",
     "delete_cmd_prefix": "del ",
     "library": "var_list.py",
     "varRefreshCmd": "print(var_dic_list())"
    },
    "r": {
     "delete_cmd_postfix": ") ",
     "delete_cmd_prefix": "rm(",
     "library": "var_list.r",
     "varRefreshCmd": "cat(var_dic_list()) "
    }
   },
   "types_to_exclude": [
    "module",
    "function",
    "builtin_function_or_method",
    "instance",
    "_Feature"
   ],
   "window_display": false
  }
 },
 "nbformat": 4,
 "nbformat_minor": 5
}
